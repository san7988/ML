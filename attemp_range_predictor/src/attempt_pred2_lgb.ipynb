{
 "cells": [
  {
   "cell_type": "code",
   "execution_count": 72,
   "metadata": {
    "collapsed": true
   },
   "outputs": [],
   "source": [
    "import pandas as pd\n",
    "import numpy as np\n",
    "import lightgbm as lgb"
   ]
  },
  {
   "cell_type": "code",
   "execution_count": 73,
   "metadata": {
    "collapsed": true
   },
   "outputs": [
    {
     "data": {
      "text/html": [
       "<div>\n",
       "<style>\n",
       "    .dataframe thead tr:only-child th {\n",
       "        text-align: right;\n",
       "    }\n",
       "\n",
       "    .dataframe thead th {\n",
       "        text-align: left;\n",
       "    }\n",
       "\n",
       "    .dataframe tbody tr th {\n",
       "        vertical-align: top;\n",
       "    }\n",
       "</style>\n",
       "<table border=\"1\" class=\"dataframe\">\n",
       "  <thead>\n",
       "    <tr style=\"text-align: right;\">\n",
       "      <th></th>\n",
       "      <th>ID</th>\n",
       "      <th>user_id</th>\n",
       "      <th>problem_id</th>\n",
       "    </tr>\n",
       "  </thead>\n",
       "  <tbody>\n",
       "    <tr>\n",
       "      <th>0</th>\n",
       "      <td>user_856_prob_5822</td>\n",
       "      <td>user_856</td>\n",
       "      <td>prob_5822</td>\n",
       "    </tr>\n",
       "    <tr>\n",
       "      <th>1</th>\n",
       "      <td>user_2642_prob_2334</td>\n",
       "      <td>user_2642</td>\n",
       "      <td>prob_2334</td>\n",
       "    </tr>\n",
       "    <tr>\n",
       "      <th>2</th>\n",
       "      <td>user_2557_prob_2920</td>\n",
       "      <td>user_2557</td>\n",
       "      <td>prob_2920</td>\n",
       "    </tr>\n",
       "    <tr>\n",
       "      <th>3</th>\n",
       "      <td>user_1572_prob_4598</td>\n",
       "      <td>user_1572</td>\n",
       "      <td>prob_4598</td>\n",
       "    </tr>\n",
       "    <tr>\n",
       "      <th>4</th>\n",
       "      <td>user_295_prob_6139</td>\n",
       "      <td>user_295</td>\n",
       "      <td>prob_6139</td>\n",
       "    </tr>\n",
       "  </tbody>\n",
       "</table>\n",
       "</div>"
      ],
      "text/plain": [
       "                    ID    user_id problem_id\n",
       "0   user_856_prob_5822   user_856  prob_5822\n",
       "1  user_2642_prob_2334  user_2642  prob_2334\n",
       "2  user_2557_prob_2920  user_2557  prob_2920\n",
       "3  user_1572_prob_4598  user_1572  prob_4598\n",
       "4   user_295_prob_6139   user_295  prob_6139"
      ]
     },
     "execution_count": 73,
     "metadata": {},
     "output_type": "execute_result"
    }
   ],
   "source": [
    "user = pd.read_csv(\".\\\\data\\\\user_data.csv\")\n",
    "problem = pd.read_csv(\".\\\\data\\\\problem_data.csv\")\n",
    "train_submission= pd.read_csv(\".\\\\data\\\\train_submissions.csv\")\n",
    "test_submission = pd.read_csv(\".\\\\data\\\\test.csv\")\n",
    "test_submission.head(5)"
   ]
  },
  {
   "cell_type": "code",
   "execution_count": 74,
   "metadata": {
    "collapsed": true
   },
   "outputs": [
    {
     "name": "stdout",
     "output_type": "stream",
     "text": [
      "Index([u'user_id', u'problem_id'], dtype='object')\n",
      "Index([u'user_id', u'problem_id'], dtype='object')\n",
      "(155295, 2)\n",
      "(66555, 2)\n"
     ]
    }
   ],
   "source": [
    "train_target = train_submission['attempts_range']\n",
    "# print train_submission.shape\n",
    "train = train_submission.loc[:, train_submission.columns != 'attempts_range']\n",
    "test = test_submission[['user_id', 'problem_id']]\n",
    "print train.columns\n",
    "print test.columns\n",
    "print train.shape\n",
    "print test.shape"
   ]
  },
  {
   "cell_type": "code",
   "execution_count": 75,
   "metadata": {
    "collapsed": true
   },
   "outputs": [
    {
     "data": {
      "text/plain": [
       "155295"
      ]
     },
     "execution_count": 75,
     "metadata": {},
     "output_type": "execute_result"
    }
   ],
   "source": [
    "train_len = train.shape[0]\n",
    "train_len"
   ]
  },
  {
   "cell_type": "code",
   "execution_count": 76,
   "metadata": {
    "collapsed": true
   },
   "outputs": [
    {
     "data": {
      "text/plain": [
       "(221850, 2)"
      ]
     },
     "execution_count": 76,
     "metadata": {},
     "output_type": "execute_result"
    }
   ],
   "source": [
    "total_data = train.append(test)\n",
    "total_data.reset_index(drop=True, inplace=True)\n",
    "total_data.shape"
   ]
  },
  {
   "cell_type": "code",
   "execution_count": 77,
   "metadata": {},
   "outputs": [],
   "source": [
    "total_data = pd.merge(total_data, user, on='user_id')\n",
    "total_data = pd.merge(total_data, problem, on='problem_id')\n",
    "# total_data.to_csv(\"total_data.csv\")"
   ]
  },
  {
   "cell_type": "code",
   "execution_count": 78,
   "metadata": {
    "collapsed": true
   },
   "outputs": [
    {
     "data": {
      "text/plain": [
       "user_id                       object\n",
       "problem_id                    object\n",
       "submission_count               int64\n",
       "problem_solved                 int64\n",
       "contribution                   int64\n",
       "country                       object\n",
       "follower_count                 int64\n",
       "last_online_time_seconds       int64\n",
       "max_rating                   float64\n",
       "rating                       float64\n",
       "rank                          object\n",
       "registration_time_seconds      int64\n",
       "level_type                    object\n",
       "points                       float64\n",
       "tags                          object\n",
       "dtype: object"
      ]
     },
     "execution_count": 78,
     "metadata": {},
     "output_type": "execute_result"
    }
   ],
   "source": [
    "total_data.dtypes"
   ]
  },
  {
   "cell_type": "code",
   "execution_count": 79,
   "metadata": {
    "collapsed": true
   },
   "outputs": [],
   "source": [
    "user_id = total_data['user_id']\n",
    "problem_id = total_data['problem_id']\n",
    "total_data = total_data.loc[:, total_data.columns != 'user_id']\n",
    "total_data = total_data.loc[:, total_data.columns != 'problem_id']\n",
    "total_data = total_data.loc[:, total_data.columns != 'tags']\n",
    "total_data = total_data.loc[:, total_data.columns != 'points']"
   ]
  },
  {
   "cell_type": "code",
   "execution_count": 80,
   "metadata": {
    "collapsed": true
   },
   "outputs": [
    {
     "data": {
      "text/plain": [
       "(221850, 11)"
      ]
     },
     "execution_count": 80,
     "metadata": {},
     "output_type": "execute_result"
    }
   ],
   "source": [
    "total_data.dtypes\n",
    "total_data.shape"
   ]
  },
  {
   "cell_type": "code",
   "execution_count": 81,
   "metadata": {
    "collapsed": true
   },
   "outputs": [],
   "source": [
    "col_to_encode = ['country', 'rank', 'level_type']"
   ]
  },
  {
   "cell_type": "code",
   "execution_count": 82,
   "metadata": {
    "collapsed": true
   },
   "outputs": [],
   "source": [
    "total_data['country'] = total_data['country'].fillna('India')\n",
    "total_data['rank'] = total_data['rank'].fillna('beginner')\n",
    "total_data['level_type'] = total_data['level_type'].fillna('C')"
   ]
  },
  {
   "cell_type": "code",
   "execution_count": 83,
   "metadata": {
    "collapsed": true
   },
   "outputs": [],
   "source": [
    "# for c in col_to_encode:\n",
    "#     print c\n",
    "#     print total_data[c].value_counts()"
   ]
  },
  {
   "cell_type": "code",
   "execution_count": 84,
   "metadata": {
    "collapsed": true
   },
   "outputs": [
    {
     "name": "stdout",
     "output_type": "stream",
     "text": [
      "['Argentina' 'Armenia' 'Australia' 'Austria' 'Azerbaijan' 'Bangladesh'\n",
      " 'Belarus' 'Belgium' 'Bolivia' 'Bosnia and Herzegovina' 'Brazil' 'Bulgaria'\n",
      " 'Canada' 'Chile' 'China' 'Christmas Island' 'Colombia' 'Costa Rica'\n",
      " 'Croatia' 'Cuba' 'Czechia' 'Egypt' 'Estonia' 'Finland' 'France' 'Georgia'\n",
      " 'Germany' 'Haiti' 'Hong Kong' 'Hungary' 'Iceland' 'India' 'Indonesia'\n",
      " 'Iran' 'Israel' 'Italy' 'Japan' 'Jordan' 'Kazakhstan' 'Kyrgyzstan' 'Laos'\n",
      " 'Latvia' 'Lebanon' 'Lithuania' 'Macedonia' 'Malaysia' 'Mexico' 'Moldova'\n",
      " 'Mongolia' 'Morocco' 'Netherlands' 'North Korea' 'Norway' 'Peru'\n",
      " 'Philippines' 'Poland' 'Romania' 'Russia' 'Serbia' 'Singapore' 'Slovakia'\n",
      " 'South Africa' 'South Korea' 'Spain' 'Swaziland' 'Switzerland' 'Syria'\n",
      " 'Taiwan' 'Tajikistan' 'Thailand' 'Trinidad and Tobago' 'Tunisia'\n",
      " 'Turkmenistan' 'Ukraine' 'United Kingdom' 'United States' 'Uzbekistan'\n",
      " 'Venezuela' 'Vietnam']\n",
      "['advanced' 'beginner' 'expert' 'intermediate']\n",
      "['A' 'B' 'C' 'D' 'E' 'F' 'G' 'H' 'I' 'J' 'K' 'L' 'M' 'N']\n"
     ]
    }
   ],
   "source": [
    "from sklearn.preprocessing import LabelEncoder\n",
    "for c in col_to_encode:\n",
    "    le = LabelEncoder()\n",
    "    total_data[c] = le.fit_transform(total_data[c])\n",
    "    print le.classes_"
   ]
  },
  {
   "cell_type": "code",
   "execution_count": 85,
   "metadata": {
    "collapsed": true
   },
   "outputs": [
    {
     "name": "stdout",
     "output_type": "stream",
     "text": [
      "False submission_count\n",
      "False problem_solved\n",
      "False contribution\n",
      "False country\n",
      "False follower_count\n",
      "False last_online_time_seconds\n",
      "False max_rating\n",
      "False rating\n",
      "False rank\n",
      "False registration_time_seconds\n",
      "False level_type\n"
     ]
    }
   ],
   "source": [
    "for c in total_data.columns:\n",
    "    print total_data[c].isnull().any(), c"
   ]
  },
  {
   "cell_type": "code",
   "execution_count": 86,
   "metadata": {
    "collapsed": true
   },
   "outputs": [
    {
     "name": "stdout",
     "output_type": "stream",
     "text": [
      "(221850, 11)\n",
      "Index([u'submission_count', u'problem_solved', u'contribution', u'country',\n",
      "       u'follower_count', u'last_online_time_seconds', u'max_rating',\n",
      "       u'rating', u'rank', u'registration_time_seconds', u'level_type'],\n",
      "      dtype='object')\n"
     ]
    }
   ],
   "source": [
    "print total_data.shape\n",
    "print total_data.columns"
   ]
  },
  {
   "cell_type": "code",
   "execution_count": 87,
   "metadata": {
    "collapsed": true
   },
   "outputs": [
    {
     "name": "stdout",
     "output_type": "stream",
     "text": [
      "(155295, 2)\n",
      "(66555, 11)\n"
     ]
    }
   ],
   "source": [
    "train_data = total_data.iloc[:train_len, :]\n",
    "submission_data = total_data.iloc[train_len:, :]\n",
    "print train.shape\n",
    "print submission_data.shape"
   ]
  },
  {
   "cell_type": "code",
   "execution_count": 88,
   "metadata": {
    "collapsed": true
   },
   "outputs": [],
   "source": [
    "from sklearn.model_selection import train_test_split\n",
    "X_train, X_test, y_train, y_test = train_test_split(train_data,train_target, test_size=0.2, random_state=2017)"
   ]
  },
  {
   "cell_type": "code",
   "execution_count": 89,
   "metadata": {
    "collapsed": true
   },
   "outputs": [
    {
     "name": "stdout",
     "output_type": "stream",
     "text": [
      "(124236, 11)\n",
      "Index([u'submission_count', u'problem_solved', u'contribution', u'country',\n",
      "       u'follower_count', u'last_online_time_seconds', u'max_rating',\n",
      "       u'rating', u'rank', u'registration_time_seconds', u'level_type'],\n",
      "      dtype='object')\n",
      "(31059, 11)\n",
      "Index([u'submission_count', u'problem_solved', u'contribution', u'country',\n",
      "       u'follower_count', u'last_online_time_seconds', u'max_rating',\n",
      "       u'rating', u'rank', u'registration_time_seconds', u'level_type'],\n",
      "      dtype='object')\n",
      "(124236L,)\n",
      "1    16393\n",
      "2     9564\n",
      "3     2880\n",
      "4     1118\n",
      "6      627\n",
      "5      477\n",
      "Name: attempts_range, dtype: int64\n"
     ]
    }
   ],
   "source": [
    "print X_train.shape\n",
    "print X_train.columns\n",
    "print X_test.shape\n",
    "print X_test.columns\n",
    "print y_train.shape\n",
    "# print y_train.columns\n",
    "print pd.DataFrame(y_test)['attempts_range'].value_counts()"
   ]
  },
  {
   "cell_type": "code",
   "execution_count": 90,
   "metadata": {
    "collapsed": true
   },
   "outputs": [],
   "source": [
    "X_train_array = X_train.as_matrix()\n",
    "X_test_array = X_test.as_matrix()\n",
    "# y_train = np.array()"
   ]
  },
  {
   "cell_type": "code",
   "execution_count": 91,
   "metadata": {
    "collapsed": true
   },
   "outputs": [],
   "source": [
    "y_test = y_test-1\n",
    "y_train = y_train-1\n",
    "# y_test"
   ]
  },
  {
   "cell_type": "code",
   "execution_count": 92,
   "metadata": {
    "collapsed": true
   },
   "outputs": [],
   "source": [
    "dtrain = lgb.Dataset(X_train_array, label=y_train)\n",
    "dtest = lgb.Dataset(X_test_array, label=y_test)"
   ]
  },
  {
   "cell_type": "code",
   "execution_count": 93,
   "metadata": {
    "collapsed": true
   },
   "outputs": [
    {
     "name": "stdout",
     "output_type": "stream",
     "text": [
      "[1]\tvalid_0's multi_logloss: 1.78609\n",
      "Training until validation scores don't improve for 10 rounds.\n",
      "[2]\tvalid_0's multi_logloss: 1.78122\n",
      "[3]\tvalid_0's multi_logloss: 1.78102\n",
      "[4]\tvalid_0's multi_logloss: 1.78013\n",
      "[5]\tvalid_0's multi_logloss: 1.77994\n",
      "[6]\tvalid_0's multi_logloss: 1.77975\n",
      "[7]\tvalid_0's multi_logloss: 1.77956\n",
      "[8]\tvalid_0's multi_logloss: 1.77937\n",
      "[9]\tvalid_0's multi_logloss: 1.77918\n",
      "[10]\tvalid_0's multi_logloss: 1.779\n",
      "[11]\tvalid_0's multi_logloss: 1.77882\n",
      "[12]\tvalid_0's multi_logloss: 1.77882\n",
      "[13]\tvalid_0's multi_logloss: 1.77864\n",
      "[14]\tvalid_0's multi_logloss: 1.77846\n",
      "[15]\tvalid_0's multi_logloss: 1.77828\n",
      "[16]\tvalid_0's multi_logloss: 1.77811\n",
      "[17]\tvalid_0's multi_logloss: 1.77793\n",
      "[18]\tvalid_0's multi_logloss: 1.77776\n",
      "[19]\tvalid_0's multi_logloss: 1.77759\n",
      "[20]\tvalid_0's multi_logloss: 1.77742\n",
      "[21]\tvalid_0's multi_logloss: 1.77726\n",
      "[22]\tvalid_0's multi_logloss: 1.77273\n",
      "[23]\tvalid_0's multi_logloss: 1.76828\n",
      "[24]\tvalid_0's multi_logloss: 1.76392\n",
      "[25]\tvalid_0's multi_logloss: 1.76376\n",
      "[26]\tvalid_0's multi_logloss: 1.75931\n",
      "[27]\tvalid_0's multi_logloss: 1.75915\n",
      "[28]\tvalid_0's multi_logloss: 1.759\n",
      "[29]\tvalid_0's multi_logloss: 1.75884\n",
      "[30]\tvalid_0's multi_logloss: 1.75869\n",
      "[31]\tvalid_0's multi_logloss: 1.75853\n",
      "[32]\tvalid_0's multi_logloss: 1.75352\n",
      "[33]\tvalid_0's multi_logloss: 1.74858\n",
      "[34]\tvalid_0's multi_logloss: 1.74373\n",
      "[35]\tvalid_0's multi_logloss: 1.74291\n",
      "[36]\tvalid_0's multi_logloss: 1.73813\n",
      "[37]\tvalid_0's multi_logloss: 1.73799\n",
      "[38]\tvalid_0's multi_logloss: 1.73786\n",
      "[39]\tvalid_0's multi_logloss: 1.73772\n",
      "[40]\tvalid_0's multi_logloss: 1.73759\n",
      "[41]\tvalid_0's multi_logloss: 1.73746\n",
      "[42]\tvalid_0's multi_logloss: 1.73732\n",
      "[43]\tvalid_0's multi_logloss: 1.73719\n",
      "[44]\tvalid_0's multi_logloss: 1.73706\n",
      "[45]\tvalid_0's multi_logloss: 1.73694\n",
      "[46]\tvalid_0's multi_logloss: 1.73681\n",
      "[47]\tvalid_0's multi_logloss: 1.73604\n",
      "[48]\tvalid_0's multi_logloss: 1.73528\n",
      "[49]\tvalid_0's multi_logloss: 1.73516\n",
      "[50]\tvalid_0's multi_logloss: 1.73504\n",
      "[51]\tvalid_0's multi_logloss: 1.73492\n",
      "[52]\tvalid_0's multi_logloss: 1.7348\n",
      "[53]\tvalid_0's multi_logloss: 1.73468\n",
      "[54]\tvalid_0's multi_logloss: 1.73456\n",
      "[55]\tvalid_0's multi_logloss: 1.73445\n",
      "[56]\tvalid_0's multi_logloss: 1.73433\n",
      "[57]\tvalid_0's multi_logloss: 1.73422\n",
      "[58]\tvalid_0's multi_logloss: 1.72961\n",
      "[59]\tvalid_0's multi_logloss: 1.72509\n",
      "[60]\tvalid_0's multi_logloss: 1.72065\n",
      "[61]\tvalid_0's multi_logloss: 1.72054\n",
      "[62]\tvalid_0's multi_logloss: 1.72043\n",
      "[63]\tvalid_0's multi_logloss: 1.72033\n",
      "[64]\tvalid_0's multi_logloss: 1.72022\n",
      "[65]\tvalid_0's multi_logloss: 1.72012\n",
      "[66]\tvalid_0's multi_logloss: 1.72001\n",
      "[67]\tvalid_0's multi_logloss: 1.71563\n",
      "[68]\tvalid_0's multi_logloss: 1.71553\n",
      "[69]\tvalid_0's multi_logloss: 1.71121\n",
      "[70]\tvalid_0's multi_logloss: 1.70756\n",
      "[71]\tvalid_0's multi_logloss: 1.70398\n",
      "[72]\tvalid_0's multi_logloss: 1.70388\n",
      "[73]\tvalid_0's multi_logloss: 1.70379\n",
      "[74]\tvalid_0's multi_logloss: 1.7037\n",
      "[75]\tvalid_0's multi_logloss: 1.7036\n",
      "[76]\tvalid_0's multi_logloss: 1.70351\n",
      "[77]\tvalid_0's multi_logloss: 1.70342\n",
      "[78]\tvalid_0's multi_logloss: 1.70275\n",
      "[79]\tvalid_0's multi_logloss: 1.70266\n",
      "[80]\tvalid_0's multi_logloss: 1.70257\n",
      "[81]\tvalid_0's multi_logloss: 1.7019\n",
      "[82]\tvalid_0's multi_logloss: 1.7012\n",
      "[83]\tvalid_0's multi_logloss: 1.70051\n",
      "[84]\tvalid_0's multi_logloss: 1.69982\n",
      "[85]\tvalid_0's multi_logloss: 1.69915\n",
      "[86]\tvalid_0's multi_logloss: 1.69848\n",
      "[87]\tvalid_0's multi_logloss: 1.6984\n",
      "[88]\tvalid_0's multi_logloss: 1.69832\n",
      "[89]\tvalid_0's multi_logloss: 1.69768\n",
      "[90]\tvalid_0's multi_logloss: 1.69704\n",
      "[91]\tvalid_0's multi_logloss: 1.69642\n",
      "[92]\tvalid_0's multi_logloss: 1.69238\n",
      "[93]\tvalid_0's multi_logloss: 1.68839\n",
      "[94]\tvalid_0's multi_logloss: 1.68446\n",
      "[95]\tvalid_0's multi_logloss: 1.68385\n",
      "[96]\tvalid_0's multi_logloss: 1.68052\n",
      "[97]\tvalid_0's multi_logloss: 1.68045\n",
      "[98]\tvalid_0's multi_logloss: 1.68038\n",
      "[99]\tvalid_0's multi_logloss: 1.68031\n",
      "[100]\tvalid_0's multi_logloss: 1.68025\n",
      "[101]\tvalid_0's multi_logloss: 1.68018\n",
      "[102]\tvalid_0's multi_logloss: 1.68011\n",
      "[103]\tvalid_0's multi_logloss: 1.68005\n",
      "[104]\tvalid_0's multi_logloss: 1.67998\n",
      "[105]\tvalid_0's multi_logloss: 1.67992\n",
      "[106]\tvalid_0's multi_logloss: 1.67986\n",
      "[107]\tvalid_0's multi_logloss: 1.67979\n",
      "[108]\tvalid_0's multi_logloss: 1.67973\n",
      "[109]\tvalid_0's multi_logloss: 1.67966\n",
      "[110]\tvalid_0's multi_logloss: 1.6796\n",
      "[111]\tvalid_0's multi_logloss: 1.67954\n",
      "[112]\tvalid_0's multi_logloss: 1.67948\n",
      "[113]\tvalid_0's multi_logloss: 1.67942\n",
      "[114]\tvalid_0's multi_logloss: 1.67936\n",
      "[115]\tvalid_0's multi_logloss: 1.6793\n",
      "[116]\tvalid_0's multi_logloss: 1.67924\n",
      "[117]\tvalid_0's multi_logloss: 1.67918\n",
      "[118]\tvalid_0's multi_logloss: 1.6786\n",
      "[119]\tvalid_0's multi_logloss: 1.67803\n",
      "[120]\tvalid_0's multi_logloss: 1.67746\n",
      "[121]\tvalid_0's multi_logloss: 1.6774\n",
      "[122]\tvalid_0's multi_logloss: 1.67735\n",
      "[123]\tvalid_0's multi_logloss: 1.6773\n",
      "[124]\tvalid_0's multi_logloss: 1.67724\n",
      "[125]\tvalid_0's multi_logloss: 1.67719\n",
      "[126]\tvalid_0's multi_logloss: 1.67714\n",
      "[127]\tvalid_0's multi_logloss: 1.67709\n",
      "[128]\tvalid_0's multi_logloss: 1.67653\n",
      "[129]\tvalid_0's multi_logloss: 1.67599\n",
      "[130]\tvalid_0's multi_logloss: 1.67545\n",
      "[131]\tvalid_0's multi_logloss: 1.67492\n",
      "[132]\tvalid_0's multi_logloss: 1.67487\n",
      "[133]\tvalid_0's multi_logloss: 1.67482\n",
      "[134]\tvalid_0's multi_logloss: 1.67477\n",
      "[135]\tvalid_0's multi_logloss: 1.67472\n",
      "[136]\tvalid_0's multi_logloss: 1.67467\n",
      "[137]\tvalid_0's multi_logloss: 1.67416\n",
      "[138]\tvalid_0's multi_logloss: 1.67364\n",
      "[139]\tvalid_0's multi_logloss: 1.67314\n",
      "[140]\tvalid_0's multi_logloss: 1.6731\n",
      "[141]\tvalid_0's multi_logloss: 1.6726\n",
      "[142]\tvalid_0's multi_logloss: 1.67255\n",
      "[143]\tvalid_0's multi_logloss: 1.67251\n",
      "[144]\tvalid_0's multi_logloss: 1.67202\n",
      "[145]\tvalid_0's multi_logloss: 1.67153\n",
      "[146]\tvalid_0's multi_logloss: 1.67105\n",
      "[147]\tvalid_0's multi_logloss: 1.67101\n",
      "[148]\tvalid_0's multi_logloss: 1.67097\n",
      "[149]\tvalid_0's multi_logloss: 1.66771\n",
      "[150]\tvalid_0's multi_logloss: 1.66767\n",
      "[151]\tvalid_0's multi_logloss: 1.66763\n",
      "[152]\tvalid_0's multi_logloss: 1.66401\n",
      "[153]\tvalid_0's multi_logloss: 1.66043\n",
      "[154]\tvalid_0's multi_logloss: 1.6569\n",
      "[155]\tvalid_0's multi_logloss: 1.65643\n",
      "[156]\tvalid_0's multi_logloss: 1.65295\n",
      "[157]\tvalid_0's multi_logloss: 1.6525\n",
      "[158]\tvalid_0's multi_logloss: 1.65246\n",
      "[159]\tvalid_0's multi_logloss: 1.65202\n",
      "[160]\tvalid_0's multi_logloss: 1.65158\n",
      "[161]\tvalid_0's multi_logloss: 1.65114\n",
      "[162]\tvalid_0's multi_logloss: 1.65111\n",
      "[163]\tvalid_0's multi_logloss: 1.65108\n",
      "[164]\tvalid_0's multi_logloss: 1.65105\n",
      "[165]\tvalid_0's multi_logloss: 1.65102\n",
      "[166]\tvalid_0's multi_logloss: 1.65099\n",
      "[167]\tvalid_0's multi_logloss: 1.65096\n",
      "[168]\tvalid_0's multi_logloss: 1.65093\n",
      "[169]\tvalid_0's multi_logloss: 1.6509\n",
      "[170]\tvalid_0's multi_logloss: 1.65087\n",
      "[171]\tvalid_0's multi_logloss: 1.65085\n",
      "[172]\tvalid_0's multi_logloss: 1.65082\n",
      "[173]\tvalid_0's multi_logloss: 1.65079\n",
      "[174]\tvalid_0's multi_logloss: 1.65076\n",
      "[175]\tvalid_0's multi_logloss: 1.65073\n",
      "[176]\tvalid_0's multi_logloss: 1.65071\n",
      "[177]\tvalid_0's multi_logloss: 1.65013\n",
      "[178]\tvalid_0's multi_logloss: 1.64955\n",
      "[179]\tvalid_0's multi_logloss: 1.64859\n",
      "[180]\tvalid_0's multi_logloss: 1.64802\n",
      "[181]\tvalid_0's multi_logloss: 1.64746\n",
      "[182]\tvalid_0's multi_logloss: 1.64704\n",
      "[183]\tvalid_0's multi_logloss: 1.64663\n",
      "[184]\tvalid_0's multi_logloss: 1.64623\n",
      "[185]\tvalid_0's multi_logloss: 1.64583\n",
      "[186]\tvalid_0's multi_logloss: 1.64544\n",
      "[187]\tvalid_0's multi_logloss: 1.64542\n",
      "[188]\tvalid_0's multi_logloss: 1.64539\n",
      "[189]\tvalid_0's multi_logloss: 1.64537\n",
      "[190]\tvalid_0's multi_logloss: 1.64534\n",
      "[191]\tvalid_0's multi_logloss: 1.64532\n",
      "[192]\tvalid_0's multi_logloss: 1.64494\n",
      "[193]\tvalid_0's multi_logloss: 1.64456\n",
      "[194]\tvalid_0's multi_logloss: 1.64419\n",
      "[195]\tvalid_0's multi_logloss: 1.64382\n",
      "[196]\tvalid_0's multi_logloss: 1.64346\n",
      "[197]\tvalid_0's multi_logloss: 1.64344\n",
      "[198]\tvalid_0's multi_logloss: 1.64342\n",
      "[199]\tvalid_0's multi_logloss: 1.6434\n",
      "[200]\tvalid_0's multi_logloss: 1.64338\n"
     ]
    }
   ],
   "source": [
    "params = {\n",
    "    'task': 'train',\n",
    "    'boosting_type': 'gbdt',\n",
    "    'objective': 'multiclass',\n",
    "    'metric': 'multi_logloss',\n",
    "    'num_leaves': 64,\n",
    "    'learning_rate': 0.01,\n",
    "    'feature_fraction': 0.9,\n",
    "    'bagging_fraction': 0.8,\n",
    "    'bagging_freq': 5,\n",
    "    'verbose': 1,\n",
    "    'max_bin': 512,\n",
    "    'subsample_for_bin': 200,\n",
    "    'subsample': 1, \n",
    "    'subsample_freq': 1, \n",
    "    'colsample_bytree': 0.8, \n",
    "    'reg_alpha': 5, \n",
    "    'reg_lambda': 10,\n",
    "    'min_split_gain': 0.5, \n",
    "    'min_child_weight': 1, \n",
    "    'min_child_samples': 5, \n",
    "    'scale_pos_weight': 1,\n",
    "    'num_class' : 6\n",
    "    }\n",
    "gbm = lgb.train(params, dtrain, num_boost_round=200, valid_sets=dtest, early_stopping_rounds=10)"
   ]
  },
  {
   "cell_type": "code",
   "execution_count": 94,
   "metadata": {
    "collapsed": true
   },
   "outputs": [],
   "source": [
    "# print submission_data.columns\n",
    "# dsubmission = xgb.DMatrix(submission_data.as_matrix())\n",
    "# pred = clf_xgb.predict(dsubmission)\n",
    "# pred = pred+1\n",
    "# pred\n",
    "pred = gbm.predict(submission_data.as_matrix())"
   ]
  },
  {
   "cell_type": "code",
   "execution_count": 95,
   "metadata": {
    "collapsed": true
   },
   "outputs": [
    {
     "data": {
      "text/plain": [
       "array([1, 1, 1, ..., 1, 1, 1], dtype=int64)"
      ]
     },
     "execution_count": 95,
     "metadata": {},
     "output_type": "execute_result"
    }
   ],
   "source": [
    "pred_ = np.argmax(pred, axis=1)\n",
    "pred_ = pred_ + 1\n",
    "pred_"
   ]
  },
  {
   "cell_type": "code",
   "execution_count": 96,
   "metadata": {
    "collapsed": true
   },
   "outputs": [],
   "source": [
    "submission_df = pd.concat([test_submission['ID'], pd.DataFrame(pred_)], axis=1)\n",
    "submission_df.columns = ['ID', 'attempts_range']\n",
    "submission_df.to_csv(\"test_predictions.csv\", index=False)"
   ]
  }
 ],
 "metadata": {
  "kernelspec": {
   "display_name": "Python 2",
   "language": "python",
   "name": "python2"
  },
  "language_info": {
   "codemirror_mode": {
    "name": "ipython",
    "version": 2
   },
   "file_extension": ".py",
   "mimetype": "text/x-python",
   "name": "python",
   "nbconvert_exporter": "python",
   "pygments_lexer": "ipython2",
   "version": "2.7.13"
  }
 },
 "nbformat": 4,
 "nbformat_minor": 2
}
