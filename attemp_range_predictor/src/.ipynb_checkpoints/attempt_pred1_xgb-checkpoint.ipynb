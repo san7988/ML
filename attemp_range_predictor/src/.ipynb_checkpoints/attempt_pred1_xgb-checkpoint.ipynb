{
 "cells": [
  {
   "cell_type": "code",
   "execution_count": 105,
   "metadata": {
    "collapsed": true
   },
   "outputs": [],
   "source": [
    "import pandas as pd\n",
    "import numpy as np"
   ]
  },
  {
   "cell_type": "code",
   "execution_count": 106,
   "metadata": {
    "collapsed": true
   },
   "outputs": [
    {
     "data": {
      "text/html": [
       "<div>\n",
       "<style>\n",
       "    .dataframe thead tr:only-child th {\n",
       "        text-align: right;\n",
       "    }\n",
       "\n",
       "    .dataframe thead th {\n",
       "        text-align: left;\n",
       "    }\n",
       "\n",
       "    .dataframe tbody tr th {\n",
       "        vertical-align: top;\n",
       "    }\n",
       "</style>\n",
       "<table border=\"1\" class=\"dataframe\">\n",
       "  <thead>\n",
       "    <tr style=\"text-align: right;\">\n",
       "      <th></th>\n",
       "      <th>ID</th>\n",
       "      <th>user_id</th>\n",
       "      <th>problem_id</th>\n",
       "    </tr>\n",
       "  </thead>\n",
       "  <tbody>\n",
       "    <tr>\n",
       "      <th>0</th>\n",
       "      <td>user_856_prob_5822</td>\n",
       "      <td>user_856</td>\n",
       "      <td>prob_5822</td>\n",
       "    </tr>\n",
       "    <tr>\n",
       "      <th>1</th>\n",
       "      <td>user_2642_prob_2334</td>\n",
       "      <td>user_2642</td>\n",
       "      <td>prob_2334</td>\n",
       "    </tr>\n",
       "    <tr>\n",
       "      <th>2</th>\n",
       "      <td>user_2557_prob_2920</td>\n",
       "      <td>user_2557</td>\n",
       "      <td>prob_2920</td>\n",
       "    </tr>\n",
       "    <tr>\n",
       "      <th>3</th>\n",
       "      <td>user_1572_prob_4598</td>\n",
       "      <td>user_1572</td>\n",
       "      <td>prob_4598</td>\n",
       "    </tr>\n",
       "    <tr>\n",
       "      <th>4</th>\n",
       "      <td>user_295_prob_6139</td>\n",
       "      <td>user_295</td>\n",
       "      <td>prob_6139</td>\n",
       "    </tr>\n",
       "  </tbody>\n",
       "</table>\n",
       "</div>"
      ],
      "text/plain": [
       "                    ID    user_id problem_id\n",
       "0   user_856_prob_5822   user_856  prob_5822\n",
       "1  user_2642_prob_2334  user_2642  prob_2334\n",
       "2  user_2557_prob_2920  user_2557  prob_2920\n",
       "3  user_1572_prob_4598  user_1572  prob_4598\n",
       "4   user_295_prob_6139   user_295  prob_6139"
      ]
     },
     "execution_count": 106,
     "metadata": {},
     "output_type": "execute_result"
    }
   ],
   "source": [
    "user = pd.read_csv(\".\\\\data\\\\user_data.csv\")\n",
    "problem = pd.read_csv(\".\\\\data\\\\problem_data.csv\")\n",
    "train_submission= pd.read_csv(\".\\\\data\\\\train_submissions.csv\")\n",
    "test_submission = pd.read_csv(\".\\\\data\\\\test.csv\")\n",
    "test_submission.head(5)"
   ]
  },
  {
   "cell_type": "code",
   "execution_count": 107,
   "metadata": {
    "collapsed": true
   },
   "outputs": [
    {
     "name": "stdout",
     "output_type": "stream",
     "text": [
      "Index([u'user_id', u'problem_id'], dtype='object')\n",
      "Index([u'user_id', u'problem_id'], dtype='object')\n",
      "(155295, 2)\n",
      "(66555, 2)\n"
     ]
    }
   ],
   "source": [
    "train_target = train_submission['attempts_range']\n",
    "# print train_submission.shape\n",
    "train = train_submission.loc[:, train_submission.columns != 'attempts_range']\n",
    "test = test_submission[['user_id', 'problem_id']]\n",
    "print train.columns\n",
    "print test.columns\n",
    "print train.shape\n",
    "print test.shape"
   ]
  },
  {
   "cell_type": "code",
   "execution_count": 108,
   "metadata": {
    "collapsed": true
   },
   "outputs": [
    {
     "data": {
      "text/plain": [
       "155295"
      ]
     },
     "execution_count": 108,
     "metadata": {},
     "output_type": "execute_result"
    }
   ],
   "source": [
    "train_len = train.shape[0]\n",
    "train_len"
   ]
  },
  {
   "cell_type": "code",
   "execution_count": 109,
   "metadata": {
    "collapsed": true
   },
   "outputs": [
    {
     "data": {
      "text/plain": [
       "(221850, 2)"
      ]
     },
     "execution_count": 109,
     "metadata": {},
     "output_type": "execute_result"
    }
   ],
   "source": [
    "total_data = train.append(test)\n",
    "total_data.reset_index(drop=True, inplace=True)\n",
    "total_data.shape"
   ]
  },
  {
   "cell_type": "code",
   "execution_count": 110,
   "metadata": {},
   "outputs": [],
   "source": [
    "total_data = pd.merge(total_data, user, on='user_id')\n",
    "total_data = pd.merge(total_data, problem, on='problem_id')\n",
    "# total_data.to_csv(\"total_data.csv\")"
   ]
  },
  {
   "cell_type": "code",
   "execution_count": 111,
   "metadata": {
    "collapsed": true
   },
   "outputs": [
    {
     "data": {
      "text/plain": [
       "user_id                       object\n",
       "problem_id                    object\n",
       "submission_count               int64\n",
       "problem_solved                 int64\n",
       "contribution                   int64\n",
       "country                       object\n",
       "follower_count                 int64\n",
       "last_online_time_seconds       int64\n",
       "max_rating                   float64\n",
       "rating                       float64\n",
       "rank                          object\n",
       "registration_time_seconds      int64\n",
       "level_type                    object\n",
       "points                       float64\n",
       "tags                          object\n",
       "dtype: object"
      ]
     },
     "execution_count": 111,
     "metadata": {},
     "output_type": "execute_result"
    }
   ],
   "source": [
    "total_data.dtypes"
   ]
  },
  {
   "cell_type": "code",
   "execution_count": 112,
   "metadata": {},
   "outputs": [],
   "source": [
    "user_id = total_data['user_id']\n",
    "problem_id = total_data['problem_id']\n",
    "\n",
    "#Remove columns with ids and incomplete/sparse data\n",
    "total_data = total_data.loc[:, total_data.columns != 'user_id']\n",
    "total_data = total_data.loc[:, total_data.columns != 'problem_id']\n",
    "total_data = total_data.loc[:, total_data.columns != 'tags']\n",
    "total_data = total_data.loc[:, total_data.columns != 'points']"
   ]
  },
  {
   "cell_type": "code",
   "execution_count": 113,
   "metadata": {
    "collapsed": true
   },
   "outputs": [
    {
     "data": {
      "text/plain": [
       "(221850, 11)"
      ]
     },
     "execution_count": 113,
     "metadata": {},
     "output_type": "execute_result"
    }
   ],
   "source": [
    "total_data.dtypes\n",
    "total_data.shape"
   ]
  },
  {
   "cell_type": "code",
   "execution_count": 114,
   "metadata": {},
   "outputs": [],
   "source": [
    "col_to_encode = ['country', 'rank', 'level_type']"
   ]
  },
  {
   "cell_type": "code",
   "execution_count": 115,
   "metadata": {},
   "outputs": [],
   "source": [
    "total_data['country'] = total_data['country'].fillna('India')\n",
    "total_data['rank'] = total_data['rank'].fillna('beginner')\n",
    "total_data['level_type'] = total_data['level_type'].fillna('C')"
   ]
  },
  {
   "cell_type": "code",
   "execution_count": 116,
   "metadata": {
    "collapsed": true
   },
   "outputs": [
    {
     "name": "stdout",
     "output_type": "stream",
     "text": [
      "['Argentina' 'Armenia' 'Australia' 'Austria' 'Azerbaijan' 'Bangladesh'\n",
      " 'Belarus' 'Belgium' 'Bolivia' 'Bosnia and Herzegovina' 'Brazil' 'Bulgaria'\n",
      " 'Canada' 'Chile' 'China' 'Christmas Island' 'Colombia' 'Costa Rica'\n",
      " 'Croatia' 'Cuba' 'Czechia' 'Egypt' 'Estonia' 'Finland' 'France' 'Georgia'\n",
      " 'Germany' 'Haiti' 'Hong Kong' 'Hungary' 'Iceland' 'India' 'Indonesia'\n",
      " 'Iran' 'Israel' 'Italy' 'Japan' 'Jordan' 'Kazakhstan' 'Kyrgyzstan' 'Laos'\n",
      " 'Latvia' 'Lebanon' 'Lithuania' 'Macedonia' 'Malaysia' 'Mexico' 'Moldova'\n",
      " 'Mongolia' 'Morocco' 'Netherlands' 'North Korea' 'Norway' 'Peru'\n",
      " 'Philippines' 'Poland' 'Romania' 'Russia' 'Serbia' 'Singapore' 'Slovakia'\n",
      " 'South Africa' 'South Korea' 'Spain' 'Swaziland' 'Switzerland' 'Syria'\n",
      " 'Taiwan' 'Tajikistan' 'Thailand' 'Trinidad and Tobago' 'Tunisia'\n",
      " 'Turkmenistan' 'Ukraine' 'United Kingdom' 'United States' 'Uzbekistan'\n",
      " 'Venezuela' 'Vietnam']\n",
      "['advanced' 'beginner' 'expert' 'intermediate']\n",
      "['A' 'B' 'C' 'D' 'E' 'F' 'G' 'H' 'I' 'J' 'K' 'L' 'M' 'N']\n"
     ]
    }
   ],
   "source": [
    "#Encode categorical data\n",
    "from sklearn.preprocessing import LabelEncoder\n",
    "for c in col_to_encode:\n",
    "    le = LabelEncoder()\n",
    "    total_data[c] = le.fit_transform(total_data[c])\n",
    "    print le.classes_"
   ]
  },
  {
   "cell_type": "code",
   "execution_count": 117,
   "metadata": {
    "collapsed": true
   },
   "outputs": [
    {
     "name": "stdout",
     "output_type": "stream",
     "text": [
      "False submission_count\n",
      "False problem_solved\n",
      "False contribution\n",
      "False country\n",
      "False follower_count\n",
      "False last_online_time_seconds\n",
      "False max_rating\n",
      "False rating\n",
      "False rank\n",
      "False registration_time_seconds\n",
      "False level_type\n"
     ]
    }
   ],
   "source": [
    "# for c in total_data.columns:\n",
    "#     print total_data[c].isnull().any(), c"
   ]
  },
  {
   "cell_type": "code",
   "execution_count": 118,
   "metadata": {
    "collapsed": true
   },
   "outputs": [
    {
     "name": "stdout",
     "output_type": "stream",
     "text": [
      "(221850, 11)\n",
      "Index([u'submission_count', u'problem_solved', u'contribution', u'country',\n",
      "       u'follower_count', u'last_online_time_seconds', u'max_rating',\n",
      "       u'rating', u'rank', u'registration_time_seconds', u'level_type'],\n",
      "      dtype='object')\n"
     ]
    }
   ],
   "source": [
    "print total_data.shape\n",
    "print total_data.columns"
   ]
  },
  {
   "cell_type": "code",
   "execution_count": 119,
   "metadata": {
    "collapsed": true
   },
   "outputs": [
    {
     "name": "stdout",
     "output_type": "stream",
     "text": [
      "(155295, 2)\n",
      "(66555, 11)\n"
     ]
    }
   ],
   "source": [
    "#split data into training set and submission set after preprocessing \n",
    "train_data = total_data.iloc[:train_len, :]\n",
    "submission_data = total_data.iloc[train_len:, :]\n",
    "print train.shape\n",
    "print submission_data.shape"
   ]
  },
  {
   "cell_type": "code",
   "execution_count": 120,
   "metadata": {},
   "outputs": [],
   "source": [
    "import xgboost as xgb\n",
    "from sklearn.model_selection import train_test_split\n",
    "X_train, X_test, y_train, y_test = train_test_split(train_data,train_target, test_size=0.33, random_state=2017)"
   ]
  },
  {
   "cell_type": "code",
   "execution_count": 121,
   "metadata": {
    "collapsed": true
   },
   "outputs": [
    {
     "name": "stdout",
     "output_type": "stream",
     "text": [
      "(104047, 11)\n",
      "Index([u'submission_count', u'problem_solved', u'contribution', u'country',\n",
      "       u'follower_count', u'last_online_time_seconds', u'max_rating',\n",
      "       u'rating', u'rank', u'registration_time_seconds', u'level_type'],\n",
      "      dtype='object')\n",
      "(51248, 11)\n",
      "Index([u'submission_count', u'problem_solved', u'contribution', u'country',\n",
      "       u'follower_count', u'last_online_time_seconds', u'max_rating',\n",
      "       u'rating', u'rank', u'registration_time_seconds', u'level_type'],\n",
      "      dtype='object')\n",
      "(104047L,)\n",
      "1    27170\n",
      "2    15663\n",
      "3     4701\n",
      "4     1869\n",
      "6     1039\n",
      "5      806\n",
      "Name: attempts_range, dtype: int64\n"
     ]
    }
   ],
   "source": [
    "print X_train.shape\n",
    "print X_train.columns\n",
    "print X_test.shape\n",
    "print X_test.columns\n",
    "print y_train.shape\n",
    "# print y_train.columns\n",
    "print pd.DataFrame(y_test)['attempts_range'].value_counts()"
   ]
  },
  {
   "cell_type": "code",
   "execution_count": 122,
   "metadata": {},
   "outputs": [],
   "source": [
    "X_train_array = X_train.as_matrix()\n",
    "X_test_array = X_test.as_matrix()\n",
    "# y_train = np.array()"
   ]
  },
  {
   "cell_type": "code",
   "execution_count": 123,
   "metadata": {},
   "outputs": [],
   "source": [
    "y_test = y_test-1\n",
    "y_train = y_train-1\n",
    "# y_test"
   ]
  },
  {
   "cell_type": "code",
   "execution_count": 124,
   "metadata": {},
   "outputs": [],
   "source": [
    "dtrain = xgb.DMatrix(X_train_array, label=y_train)\n",
    "dtest = xgb.DMatrix(X_test_array, label=y_test)"
   ]
  },
  {
   "cell_type": "code",
   "execution_count": 125,
   "metadata": {
    "collapsed": true
   },
   "outputs": [
    {
     "name": "stdout",
     "output_type": "stream",
     "text": [
      "[0]\ttrain-merror:0.465222\ttest-merror:0.469872\n",
      "Multiple eval metrics have been passed: 'test-merror' will be used for early stopping.\n",
      "\n",
      "Will train until test-merror hasn't improved in 20 rounds.\n",
      "[5]\ttrain-merror:0.465299\ttest-merror:0.469833\n",
      "[10]\ttrain-merror:0.465299\ttest-merror:0.469833\n",
      "[15]\ttrain-merror:0.465299\ttest-merror:0.469833\n",
      "[20]\ttrain-merror:0.465299\ttest-merror:0.469833\n",
      "Stopping. Best iteration:\n",
      "[1]\ttrain-merror:0.465299\ttest-merror:0.469833\n",
      "\n"
     ]
    }
   ],
   "source": [
    "params = {'objective': 'multi:softmax',\n",
    "          'eval_metric': 'merror',\n",
    "          'num_class' : 6,\n",
    "          'nthread': 4,\n",
    "          'silent': 1,\n",
    "          'max_depth': 3,\n",
    "          'subsample': 0.9,\n",
    "          'min_child_weight': 5,\n",
    "          \"colsample_bytree\": 0.9,\n",
    "          'eta': 0.001,\n",
    "          'seed': 2017}\n",
    "watchlist = [(dtrain, 'train'), (dtest, 'test')]\n",
    "num_rounds = 100\n",
    "clf_xgb = xgb.train(params, dtrain, num_rounds, verbose_eval=5, evals=watchlist, early_stopping_rounds=20)"
   ]
  },
  {
   "cell_type": "code",
   "execution_count": 126,
   "metadata": {
    "collapsed": true
   },
   "outputs": [
    {
     "name": "stdout",
     "output_type": "stream",
     "text": [
      "Index([u'submission_count', u'problem_solved', u'contribution', u'country',\n",
      "       u'follower_count', u'last_online_time_seconds', u'max_rating',\n",
      "       u'rating', u'rank', u'registration_time_seconds', u'level_type'],\n",
      "      dtype='object')\n"
     ]
    },
    {
     "data": {
      "text/plain": [
       "array([ 1.,  1.,  1., ...,  1.,  1.,  1.], dtype=float32)"
      ]
     },
     "execution_count": 126,
     "metadata": {},
     "output_type": "execute_result"
    }
   ],
   "source": [
    "print submission_data.columns\n",
    "dsubmission = xgb.DMatrix(submission_data.as_matrix())\n",
    "pred = clf_xgb.predict(dsubmission)\n",
    "pred = pred+1\n",
    "pred"
   ]
  },
  {
   "cell_type": "code",
   "execution_count": 127,
   "metadata": {},
   "outputs": [],
   "source": [
    "submission_df = pd.concat([test_submission['ID'], pd.DataFrame(pred)], axis=1)\n",
    "submission_df.columns = ['ID', 'attempts_range']\n",
    "submission_df.to_csv(\"test_predictions.csv\", index=False)"
   ]
  }
 ],
 "metadata": {
  "kernelspec": {
   "display_name": "Python 2",
   "language": "python",
   "name": "python2"
  },
  "language_info": {
   "codemirror_mode": {
    "name": "ipython",
    "version": 2
   },
   "file_extension": ".py",
   "mimetype": "text/x-python",
   "name": "python",
   "nbconvert_exporter": "python",
   "pygments_lexer": "ipython2",
   "version": "2.7.13"
  }
 },
 "nbformat": 4,
 "nbformat_minor": 2
}
