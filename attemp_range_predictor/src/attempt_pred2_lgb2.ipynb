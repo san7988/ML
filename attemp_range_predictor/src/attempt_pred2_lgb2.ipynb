{
 "cells": [
  {
   "cell_type": "code",
   "execution_count": 58,
   "metadata": {
    "collapsed": true
   },
   "outputs": [],
   "source": [
    "import pandas as pd\n",
    "import numpy as np\n",
    "import lightgbm as lgb"
   ]
  },
  {
   "cell_type": "code",
   "execution_count": 59,
   "metadata": {
    "collapsed": true
   },
   "outputs": [
    {
     "data": {
      "text/html": [
       "<div>\n",
       "<style>\n",
       "    .dataframe thead tr:only-child th {\n",
       "        text-align: right;\n",
       "    }\n",
       "\n",
       "    .dataframe thead th {\n",
       "        text-align: left;\n",
       "    }\n",
       "\n",
       "    .dataframe tbody tr th {\n",
       "        vertical-align: top;\n",
       "    }\n",
       "</style>\n",
       "<table border=\"1\" class=\"dataframe\">\n",
       "  <thead>\n",
       "    <tr style=\"text-align: right;\">\n",
       "      <th></th>\n",
       "      <th>ID</th>\n",
       "      <th>user_id</th>\n",
       "      <th>problem_id</th>\n",
       "    </tr>\n",
       "  </thead>\n",
       "  <tbody>\n",
       "    <tr>\n",
       "      <th>0</th>\n",
       "      <td>user_856_prob_5822</td>\n",
       "      <td>user_856</td>\n",
       "      <td>prob_5822</td>\n",
       "    </tr>\n",
       "    <tr>\n",
       "      <th>1</th>\n",
       "      <td>user_2642_prob_2334</td>\n",
       "      <td>user_2642</td>\n",
       "      <td>prob_2334</td>\n",
       "    </tr>\n",
       "    <tr>\n",
       "      <th>2</th>\n",
       "      <td>user_2557_prob_2920</td>\n",
       "      <td>user_2557</td>\n",
       "      <td>prob_2920</td>\n",
       "    </tr>\n",
       "    <tr>\n",
       "      <th>3</th>\n",
       "      <td>user_1572_prob_4598</td>\n",
       "      <td>user_1572</td>\n",
       "      <td>prob_4598</td>\n",
       "    </tr>\n",
       "    <tr>\n",
       "      <th>4</th>\n",
       "      <td>user_295_prob_6139</td>\n",
       "      <td>user_295</td>\n",
       "      <td>prob_6139</td>\n",
       "    </tr>\n",
       "  </tbody>\n",
       "</table>\n",
       "</div>"
      ],
      "text/plain": [
       "                    ID    user_id problem_id\n",
       "0   user_856_prob_5822   user_856  prob_5822\n",
       "1  user_2642_prob_2334  user_2642  prob_2334\n",
       "2  user_2557_prob_2920  user_2557  prob_2920\n",
       "3  user_1572_prob_4598  user_1572  prob_4598\n",
       "4   user_295_prob_6139   user_295  prob_6139"
      ]
     },
     "execution_count": 59,
     "metadata": {},
     "output_type": "execute_result"
    }
   ],
   "source": [
    "user = pd.read_csv(\".\\\\data\\\\user_data.csv\")\n",
    "problem = pd.read_csv(\".\\\\data\\\\problem_data.csv\")\n",
    "train_submission= pd.read_csv(\".\\\\data\\\\train_submissions.csv\")\n",
    "test_submission = pd.read_csv(\".\\\\data\\\\test.csv\")\n",
    "test_submission.head(5)"
   ]
  },
  {
   "cell_type": "code",
   "execution_count": 60,
   "metadata": {
    "collapsed": true
   },
   "outputs": [
    {
     "name": "stdout",
     "output_type": "stream",
     "text": [
      "Index([u'user_id', u'problem_id'], dtype='object')\n",
      "Index([u'user_id', u'problem_id'], dtype='object')\n",
      "(155295, 2)\n",
      "(66555, 2)\n"
     ]
    }
   ],
   "source": [
    "train_target = train_submission['attempts_range']\n",
    "# print train_submission.shape\n",
    "train = train_submission.loc[:, train_submission.columns != 'attempts_range']\n",
    "test = test_submission[['user_id', 'problem_id']]\n",
    "print train.columns\n",
    "print test.columns\n",
    "print train.shape\n",
    "print test.shape"
   ]
  },
  {
   "cell_type": "code",
   "execution_count": 61,
   "metadata": {
    "collapsed": true
   },
   "outputs": [
    {
     "data": {
      "text/plain": [
       "155295"
      ]
     },
     "execution_count": 61,
     "metadata": {},
     "output_type": "execute_result"
    }
   ],
   "source": [
    "train_len = train.shape[0]\n",
    "train_len"
   ]
  },
  {
   "cell_type": "code",
   "execution_count": 62,
   "metadata": {
    "collapsed": true
   },
   "outputs": [
    {
     "data": {
      "text/plain": [
       "(221850, 2)"
      ]
     },
     "execution_count": 62,
     "metadata": {},
     "output_type": "execute_result"
    }
   ],
   "source": [
    "total_data = train.append(test)\n",
    "total_data.reset_index(drop=True, inplace=True)\n",
    "total_data.shape"
   ]
  },
  {
   "cell_type": "code",
   "execution_count": 63,
   "metadata": {},
   "outputs": [],
   "source": [
    "total_data = pd.merge(total_data, user, on='user_id')\n",
    "total_data = pd.merge(total_data, problem, on='problem_id')\n",
    "# total_data.to_csv(\"total_data.csv\")"
   ]
  },
  {
   "cell_type": "code",
   "execution_count": 64,
   "metadata": {
    "collapsed": true
   },
   "outputs": [
    {
     "data": {
      "text/plain": [
       "user_id                       object\n",
       "problem_id                    object\n",
       "submission_count               int64\n",
       "problem_solved                 int64\n",
       "contribution                   int64\n",
       "country                       object\n",
       "follower_count                 int64\n",
       "last_online_time_seconds       int64\n",
       "max_rating                   float64\n",
       "rating                       float64\n",
       "rank                          object\n",
       "registration_time_seconds      int64\n",
       "level_type                    object\n",
       "points                       float64\n",
       "tags                          object\n",
       "dtype: object"
      ]
     },
     "execution_count": 64,
     "metadata": {},
     "output_type": "execute_result"
    }
   ],
   "source": [
    "total_data.dtypes"
   ]
  },
  {
   "cell_type": "code",
   "execution_count": 65,
   "metadata": {},
   "outputs": [],
   "source": [
    "user_id = total_data['user_id']\n",
    "problem_id = total_data['problem_id']\n",
    "total_data = total_data.loc[:, total_data.columns != 'user_id']\n",
    "total_data = total_data.loc[:, total_data.columns != 'problem_id']\n",
    "total_data = total_data.loc[:, total_data.columns != 'tags']\n",
    "total_data = total_data.loc[:, total_data.columns != 'points']"
   ]
  },
  {
   "cell_type": "code",
   "execution_count": 66,
   "metadata": {
    "collapsed": true
   },
   "outputs": [],
   "source": [
    "total_data['sub_to_prob'] = total_data['problem_solved'] / total_data['submission_count']\n",
    "total_data['last_online_time_seconds'] = total_data['last_online_time_seconds']/3600"
   ]
  },
  {
   "cell_type": "code",
   "execution_count": 67,
   "metadata": {
    "collapsed": true
   },
   "outputs": [],
   "source": [
    "col_to_rem = ['submission_count', 'problem_solved', 'country', 'max_rating', 'rating', 'registration_time_seconds']\n",
    "for c in col_to_rem:\n",
    "    total_data = total_data.loc[:, total_data.columns != c]"
   ]
  },
  {
   "cell_type": "code",
   "execution_count": 68,
   "metadata": {
    "collapsed": true
   },
   "outputs": [
    {
     "data": {
      "text/plain": [
       "(221850, 6)"
      ]
     },
     "execution_count": 68,
     "metadata": {},
     "output_type": "execute_result"
    }
   ],
   "source": [
    "total_data.dtypes\n",
    "total_data.shape"
   ]
  },
  {
   "cell_type": "code",
   "execution_count": 69,
   "metadata": {},
   "outputs": [],
   "source": [
    "col_to_encode = ['rank', 'level_type']"
   ]
  },
  {
   "cell_type": "code",
   "execution_count": 70,
   "metadata": {},
   "outputs": [],
   "source": [
    "# total_data['country'] = total_data['country'].fillna('India')\n",
    "total_data['rank'] = total_data['rank'].fillna('intermediate')\n",
    "total_data['level_type'] = total_data['level_type'].fillna('C')"
   ]
  },
  {
   "cell_type": "code",
   "execution_count": 71,
   "metadata": {
    "collapsed": true
   },
   "outputs": [],
   "source": [
    "# for c in col_to_encode:\n",
    "#     print c\n",
    "#     print total_data[c].value_counts()"
   ]
  },
  {
   "cell_type": "code",
   "execution_count": 72,
   "metadata": {
    "collapsed": true
   },
   "outputs": [
    {
     "name": "stdout",
     "output_type": "stream",
     "text": [
      "['advanced' 'beginner' 'expert' 'intermediate']\n",
      "['A' 'B' 'C' 'D' 'E' 'F' 'G' 'H' 'I' 'J' 'K' 'L' 'M' 'N']\n"
     ]
    }
   ],
   "source": [
    "from sklearn.preprocessing import LabelEncoder\n",
    "for c in col_to_encode:\n",
    "    le = LabelEncoder()\n",
    "    total_data[c] = le.fit_transform(total_data[c])\n",
    "    print le.classes_"
   ]
  },
  {
   "cell_type": "code",
   "execution_count": 73,
   "metadata": {
    "collapsed": true
   },
   "outputs": [
    {
     "name": "stdout",
     "output_type": "stream",
     "text": [
      "False contribution\n",
      "False follower_count\n",
      "False last_online_time_seconds\n",
      "False rank\n",
      "False level_type\n",
      "False sub_to_prob\n"
     ]
    }
   ],
   "source": [
    "for c in total_data.columns:\n",
    "    print total_data[c].isnull().any(), c"
   ]
  },
  {
   "cell_type": "code",
   "execution_count": 74,
   "metadata": {
    "collapsed": true
   },
   "outputs": [
    {
     "name": "stdout",
     "output_type": "stream",
     "text": [
      "(221850, 6)\n",
      "Index([u'contribution', u'follower_count', u'last_online_time_seconds',\n",
      "       u'rank', u'level_type', u'sub_to_prob'],\n",
      "      dtype='object')\n"
     ]
    }
   ],
   "source": [
    "print total_data.shape\n",
    "print total_data.columns"
   ]
  },
  {
   "cell_type": "code",
   "execution_count": 75,
   "metadata": {
    "collapsed": true
   },
   "outputs": [
    {
     "name": "stdout",
     "output_type": "stream",
     "text": [
      "(155295, 2)\n",
      "(66555, 6)\n"
     ]
    }
   ],
   "source": [
    "train_data = total_data.iloc[:train_len, :]\n",
    "submission_data = total_data.iloc[train_len:, :]\n",
    "print train.shape\n",
    "print submission_data.shape"
   ]
  },
  {
   "cell_type": "code",
   "execution_count": 76,
   "metadata": {},
   "outputs": [],
   "source": [
    "from sklearn.model_selection import train_test_split\n",
    "X_train, X_test, y_train, y_test = train_test_split(train_data,train_target, test_size=0.2, random_state=2017)"
   ]
  },
  {
   "cell_type": "code",
   "execution_count": 77,
   "metadata": {
    "collapsed": true
   },
   "outputs": [
    {
     "name": "stdout",
     "output_type": "stream",
     "text": [
      "(124236, 6)\n",
      "Index([u'contribution', u'follower_count', u'last_online_time_seconds',\n",
      "       u'rank', u'level_type', u'sub_to_prob'],\n",
      "      dtype='object')\n",
      "(31059, 6)\n",
      "Index([u'contribution', u'follower_count', u'last_online_time_seconds',\n",
      "       u'rank', u'level_type', u'sub_to_prob'],\n",
      "      dtype='object')\n",
      "(124236L,)\n",
      "1    16393\n",
      "2     9564\n",
      "3     2880\n",
      "4     1118\n",
      "6      627\n",
      "5      477\n",
      "Name: attempts_range, dtype: int64\n"
     ]
    }
   ],
   "source": [
    "print X_train.shape\n",
    "print X_train.columns\n",
    "print X_test.shape\n",
    "print X_test.columns\n",
    "print y_train.shape\n",
    "# print y_train.columns\n",
    "print pd.DataFrame(y_test)['attempts_range'].value_counts()"
   ]
  },
  {
   "cell_type": "code",
   "execution_count": 78,
   "metadata": {},
   "outputs": [],
   "source": [
    "X_train_array = X_train.as_matrix()\n",
    "X_test_array = X_test.as_matrix()\n",
    "# y_train = np.array()"
   ]
  },
  {
   "cell_type": "code",
   "execution_count": 79,
   "metadata": {
    "collapsed": true
   },
   "outputs": [],
   "source": [
    "y_test = y_test-1\n",
    "y_train = y_train-1\n",
    "# y_test"
   ]
  },
  {
   "cell_type": "code",
   "execution_count": 80,
   "metadata": {
    "collapsed": true
   },
   "outputs": [],
   "source": [
    "dtrain = lgb.Dataset(X_train_array, label=y_train)\n",
    "dtest = lgb.Dataset(X_test_array, label=y_test)"
   ]
  },
  {
   "cell_type": "code",
   "execution_count": 86,
   "metadata": {
    "collapsed": true
   },
   "outputs": [
    {
     "name": "stdout",
     "output_type": "stream",
     "text": [
      "[1]\tvalid_0's multi_logloss: 1.44025\n",
      "Training until validation scores don't improve for 20 rounds.\n",
      "[2]\tvalid_0's multi_logloss: 1.3967\n",
      "[3]\tvalid_0's multi_logloss: 1.36753\n",
      "[4]\tvalid_0's multi_logloss: 1.36422\n",
      "[5]\tvalid_0's multi_logloss: 1.36279\n",
      "[6]\tvalid_0's multi_logloss: 1.3624\n",
      "[7]\tvalid_0's multi_logloss: 1.36216\n",
      "[8]\tvalid_0's multi_logloss: 1.36223\n",
      "[9]\tvalid_0's multi_logloss: 1.36238\n",
      "[10]\tvalid_0's multi_logloss: 1.36248\n",
      "[11]\tvalid_0's multi_logloss: 1.36236\n",
      "[12]\tvalid_0's multi_logloss: 1.36235\n",
      "[13]\tvalid_0's multi_logloss: 1.36235\n",
      "[14]\tvalid_0's multi_logloss: 1.36237\n",
      "[15]\tvalid_0's multi_logloss: 1.36236\n",
      "[16]\tvalid_0's multi_logloss: 1.36245\n",
      "[17]\tvalid_0's multi_logloss: 1.36258\n",
      "[18]\tvalid_0's multi_logloss: 1.36258\n",
      "[19]\tvalid_0's multi_logloss: 1.36258\n",
      "[20]\tvalid_0's multi_logloss: 1.36258\n",
      "[21]\tvalid_0's multi_logloss: 1.36258\n",
      "[22]\tvalid_0's multi_logloss: 1.36258\n",
      "[23]\tvalid_0's multi_logloss: 1.36258\n",
      "[24]\tvalid_0's multi_logloss: 1.36258\n",
      "[25]\tvalid_0's multi_logloss: 1.36258\n",
      "[26]\tvalid_0's multi_logloss: 1.36258\n",
      "[27]\tvalid_0's multi_logloss: 1.36258\n",
      "Early stopping, best iteration is:\n",
      "[7]\tvalid_0's multi_logloss: 1.36216\n"
     ]
    }
   ],
   "source": [
    "params = {\n",
    "    'task': 'train',\n",
    "    'boosting_type': 'gbdt',\n",
    "    'objective': 'multiclass',\n",
    "    'metric': 'multi_logloss',\n",
    "    'num_leaves': 32,\n",
    "    'learning_rate': 0.8,\n",
    "    'feature_fraction': 0.9,\n",
    "    'bagging_fraction': 0.8,\n",
    "    'bagging_freq': 5,\n",
    "    'verbose': 1,\n",
    "    'max_bin': 64,\n",
    "    'subsample_for_bin': 200,\n",
    "    'subsample': 1, \n",
    "    'subsample_freq': 1, \n",
    "    'colsample_bytree': 0.8, \n",
    "    'reg_alpha': 5, \n",
    "    'reg_lambda': 10,\n",
    "    'min_split_gain': 0.5, \n",
    "    'min_child_weight': 1, \n",
    "    'min_child_samples': 5, \n",
    "    'scale_pos_weight': 1,\n",
    "    'num_class' : 6\n",
    "    }\n",
    "gbm = lgb.train(params, dtrain, num_boost_round=200, valid_sets=dtest, early_stopping_rounds=20)"
   ]
  },
  {
   "cell_type": "code",
   "execution_count": 82,
   "metadata": {},
   "outputs": [],
   "source": [
    "# print submission_data.columns\n",
    "# dsubmission = xgb.DMatrix(submission_data.as_matrix())\n",
    "# pred = clf_xgb.predict(dsubmission)\n",
    "# pred = pred+1\n",
    "# pred\n",
    "pred = gbm.predict(submission_data.as_matrix())"
   ]
  },
  {
   "cell_type": "code",
   "execution_count": 83,
   "metadata": {
    "collapsed": true
   },
   "outputs": [],
   "source": [
    "pred_ = np.argmax(pred, axis=1)\n",
    "pred_ = pred_ + 1\n",
    "# pred_"
   ]
  },
  {
   "cell_type": "code",
   "execution_count": 84,
   "metadata": {
    "collapsed": true
   },
   "outputs": [],
   "source": [
    "submission_df = pd.concat([test_submission['ID'], pd.DataFrame(pred_)], axis=1)\n",
    "submission_df.columns = ['ID', 'attempts_range']\n",
    "submission_df.to_csv(\"test_predictions.csv\", index=False)"
   ]
  }
 ],
 "metadata": {
  "kernelspec": {
   "display_name": "Python 2",
   "language": "python",
   "name": "python2"
  },
  "language_info": {
   "codemirror_mode": {
    "name": "ipython",
    "version": 2
   },
   "file_extension": ".py",
   "mimetype": "text/x-python",
   "name": "python",
   "nbconvert_exporter": "python",
   "pygments_lexer": "ipython2",
   "version": "2.7.13"
  }
 },
 "nbformat": 4,
 "nbformat_minor": 2
}
