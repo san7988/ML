{
 "cells": [
  {
   "cell_type": "code",
   "execution_count": 28,
   "metadata": {},
   "outputs": [
    {
     "name": "stdout",
     "output_type": "stream",
     "text": [
      "Importing...\n",
      "Import done...\n"
     ]
    }
   ],
   "source": [
    "print \"Importing...\"\n",
    "import os\n",
    "import io\n",
    "from pandas import DataFrame\n",
    "import numpy\n",
    "from sklearn.feature_extraction.text import CountVectorizer\n",
    "from sklearn.naive_bayes import MultinomialNB\n",
    "from sklearn.cross_validation import KFold\n",
    "from sklearn.metrics import confusion_matrix, f1_score\n",
    "import sys\n",
    "from sklearn.ensemble import RandomForestClassifier\n",
    "print \"Import done...\""
   ]
  },
  {
   "cell_type": "code",
   "execution_count": 32,
   "metadata": {},
   "outputs": [
    {
     "name": "stdout",
     "output_type": "stream",
     "text": [
      "Reading mails...\n",
      "Reading D:\\sasnjeev\\enron_dateck-s\n",
      "Reading D:\\sasnjeev\\emron_data\f",
      "armer-d\n",
      "Reading D:\\sasnjeev\\enron_data\\kaminski-v\n",
      "Reading D:\\sasnjeev\\enron_data\\kitchen-l\n",
      "Reading D:\\sasnjeev\\enron_data\\lokay-m\n",
      "Reading D:\\sasnjeev\\enron_data\\williams-w3\n",
      "Reading D:\\sasnjeev\\enron_data\\BG\n",
      "Reading D:\\sasnjeev\\enron_data\\GP\n",
      "Reading D:\\sasnjeev\\enron_data\\SH\n",
      "Reindexing done. Dataframe ready...\n"
     ]
    }
   ],
   "source": [
    "NEWLINE = '\\n'\n",
    "SKIP_FILES = {'cmds'}\n",
    "\n",
    "def read_files(path):\n",
    "    for root, dir_names, file_names in os.walk(path):\n",
    "        for path in dir_names:\n",
    "            read_files(os.path.join(root, path))\n",
    "        for file_name in file_names:\n",
    "            if file_name not in SKIP_FILES:\n",
    "                file_path = os.path.join(root, file_name)\n",
    "                if os.path.isfile(file_path):\n",
    "                    past_header, lines = False, []\n",
    "                    f = io.open(file_path, encoding=\"latin-1\")\n",
    "                    for line in f:\n",
    "                        if past_header:\n",
    "                            lines.append(line)\n",
    "                        elif line == NEWLINE:\n",
    "                            past_header = True\n",
    "                    f.close()\n",
    "                    content = NEWLINE.join(lines)\n",
    "                    yield file_path, content\n",
    "\n",
    "def build_data_frame(path, classification):\n",
    "    rows = []\n",
    "    index = []\n",
    "    read_all = True\n",
    "    mails_to_read = 500\n",
    "    count = 1\n",
    "    for file_name, text in read_files(path):\n",
    "        if not read_all:\n",
    "            if count <= mails_to_read:\n",
    "                count += 1\n",
    "                rows.append({'text': text, 'class': classification})\n",
    "                index.append(file_name)\n",
    "            else:\n",
    "                break\n",
    "        else:\n",
    "#             print \"Reading all...\"\n",
    "            rows.append({'text': text, 'class': classification})\n",
    "            index.append(file_name)\n",
    "\n",
    "    data_frame = DataFrame(rows, index=index)\n",
    "    return data_frame\n",
    "\n",
    "HAM = 'ham'\n",
    "SPAM = 'spam'\n",
    "# ('data/spam',        SPAM),\n",
    "#     ('data/easy_ham',    HAM),\n",
    "#     ('data/hard_ham',    HAM),\n",
    "SOURCES = [\n",
    "    ('D:\\sasnjeev\\enron_data\\beck-s',      HAM),\n",
    "    ('D:\\sasnjeev\\emron_data\\farmer-d',    HAM),\n",
    "    ('D:\\sasnjeev\\enron_data\\kaminski-v',  HAM),\n",
    "    ('D:\\sasnjeev\\enron_data\\kitchen-l',   HAM),\n",
    "    ('D:\\sasnjeev\\enron_data\\lokay-m',     HAM),\n",
    "    ('D:\\sasnjeev\\enron_data\\williams-w3', HAM),\n",
    "    ('D:\\sasnjeev\\enron_data\\BG',          SPAM),\n",
    "    ('D:\\sasnjeev\\enron_data\\GP',          SPAM),\n",
    "    ('D:\\sasnjeev\\enron_data\\SH',          SPAM)\n",
    "]\n",
    "print \"Reading mails...\"\n",
    "data = DataFrame({'text': [], 'class': []})\n",
    "count = 1\n",
    "\n",
    "for path, classification in SOURCES:\n",
    "    print \"Reading \"+path\n",
    "    data = data.append(build_data_frame(path, classification))\n",
    "    \n",
    "\n",
    "data = data.reindex(numpy.random.permutation(data.index))\n",
    "print \"Reindexing done. Dataframe ready...\""
   ]
  },
  {
   "cell_type": "code",
   "execution_count": 33,
   "metadata": {
    "scrolled": true
   },
   "outputs": [
    {
     "name": "stdout",
     "output_type": "stream",
     "text": [
      "Fitting...\n",
      "Predicting...\n",
      "Fitting...\n",
      "Predicting...\n",
      "Fitting...\n",
      "Predicting...\n",
      "Fitting...\n",
      "Predicting...\n",
      "Fitting...\n",
      "Predicting...\n",
      "Fitting...\n",
      "Predicting...\n",
      "Total emails classified: 46440\n",
      "Score: 0.990943483622\n",
      "Confusion matrix:\n",
      "[[13352   101]\n",
      " [  493 32494]]\n"
     ]
    }
   ],
   "source": [
    "k_fold = KFold(n=len(data), n_folds=6)\n",
    "scores = []\n",
    "confusion = numpy.array([[0, 0], [0, 0]])\n",
    "for train_indices, test_indices in k_fold:\n",
    "#     print len(train_indices), len(test_indices)\n",
    "    train_text = data.iloc[train_indices]['text'].values\n",
    "    train_y = data.iloc[train_indices]['class'].values\n",
    "\n",
    "    test_text = data.iloc[test_indices]['text'].values\n",
    "    test_y = data.iloc[test_indices]['class'].values\n",
    "    count_vectorizer = CountVectorizer()\n",
    "    print \"Fitting...\"\n",
    "    counts = count_vectorizer.fit_transform(train_text)\n",
    "#     print counts\n",
    "#     classifier = MultinomialNB()\n",
    "#     targets = data['class'].values\n",
    "    classifier = RandomForestClassifier()\n",
    "    classifier.fit(counts, train_y)\n",
    "    print \"Predicting...\"\n",
    "    test_count = count_vectorizer.transform(test_text)\n",
    "    pred = classifier.predict(test_count)\n",
    "    confusion += confusion_matrix(test_y, pred)\n",
    "    score = f1_score(test_y, pred, pos_label=SPAM)\n",
    "    scores.append(score)\n",
    "print 'Total emails classified: '+ str(len(data))\n",
    "print 'Score: ' + str(sum(scores)/len(scores))\n",
    "print 'Confusion matrix:'\n",
    "print confusion"
   ]
  }
 ],
 "metadata": {
  "kernelspec": {
   "display_name": "Python 2",
   "language": "python",
   "name": "python2"
  },
  "language_info": {
   "codemirror_mode": {
    "name": "ipython",
    "version": 2
   },
   "file_extension": ".py",
   "mimetype": "text/x-python",
   "name": "python",
   "nbconvert_exporter": "python",
   "pygments_lexer": "ipython2",
   "version": "2.7.13"
  }
 },
 "nbformat": 4,
 "nbformat_minor": 2
}
