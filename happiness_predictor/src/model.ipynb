{
 "cells": [
  {
   "cell_type": "code",
   "execution_count": 1,
   "metadata": {},
   "outputs": [
    {
     "name": "stderr",
     "output_type": "stream",
     "text": [
      "D:\\sasnjeev\\anaconda\\lib\\site-packages\\sklearn\\cross_validation.py:44: DeprecationWarning: This module was deprecated in version 0.18 in favor of the model_selection module into which all the refactored classes and functions are moved. Also note that the interface of the new CV iterators are different from that of this module. This module will be removed in 0.20.\n",
      "  \"This module will be removed in 0.20.\", DeprecationWarning)\n"
     ]
    }
   ],
   "source": [
    "import xgboost as xgb\n",
    "import pandas as pd\n",
    "import numpy as np"
   ]
  },
  {
   "cell_type": "code",
   "execution_count": 2,
   "metadata": {
    "collapsed": true
   },
   "outputs": [],
   "source": [
    "input_df = pd.read_csv(\".\\\\data\\\\train.csv\")"
   ]
  },
  {
   "cell_type": "code",
   "execution_count": 3,
   "metadata": {},
   "outputs": [
    {
     "data": {
      "text/html": [
       "<div>\n",
       "<style>\n",
       "    .dataframe thead tr:only-child th {\n",
       "        text-align: right;\n",
       "    }\n",
       "\n",
       "    .dataframe thead th {\n",
       "        text-align: left;\n",
       "    }\n",
       "\n",
       "    .dataframe tbody tr th {\n",
       "        vertical-align: top;\n",
       "    }\n",
       "</style>\n",
       "<table border=\"1\" class=\"dataframe\">\n",
       "  <thead>\n",
       "    <tr style=\"text-align: right;\">\n",
       "      <th></th>\n",
       "      <th>User_ID</th>\n",
       "      <th>Description</th>\n",
       "      <th>Browser_Used</th>\n",
       "      <th>Device_Used</th>\n",
       "      <th>Is_Response</th>\n",
       "    </tr>\n",
       "  </thead>\n",
       "  <tbody>\n",
       "    <tr>\n",
       "      <th>0</th>\n",
       "      <td>id10326</td>\n",
       "      <td>The room was kind of clean but had a VERY stro...</td>\n",
       "      <td>Edge</td>\n",
       "      <td>Mobile</td>\n",
       "      <td>not happy</td>\n",
       "    </tr>\n",
       "    <tr>\n",
       "      <th>1</th>\n",
       "      <td>id10327</td>\n",
       "      <td>I stayed at the Crown Plaza April -- - April -...</td>\n",
       "      <td>Internet Explorer</td>\n",
       "      <td>Mobile</td>\n",
       "      <td>not happy</td>\n",
       "    </tr>\n",
       "    <tr>\n",
       "      <th>2</th>\n",
       "      <td>id10328</td>\n",
       "      <td>I booked this hotel through Hotwire at the low...</td>\n",
       "      <td>Mozilla</td>\n",
       "      <td>Tablet</td>\n",
       "      <td>not happy</td>\n",
       "    </tr>\n",
       "    <tr>\n",
       "      <th>3</th>\n",
       "      <td>id10329</td>\n",
       "      <td>Stayed here with husband and sons on the way t...</td>\n",
       "      <td>InternetExplorer</td>\n",
       "      <td>Desktop</td>\n",
       "      <td>happy</td>\n",
       "    </tr>\n",
       "    <tr>\n",
       "      <th>4</th>\n",
       "      <td>id10330</td>\n",
       "      <td>My girlfriends and I stayed here to celebrate ...</td>\n",
       "      <td>Edge</td>\n",
       "      <td>Tablet</td>\n",
       "      <td>not happy</td>\n",
       "    </tr>\n",
       "  </tbody>\n",
       "</table>\n",
       "</div>"
      ],
      "text/plain": [
       "   User_ID                                        Description  \\\n",
       "0  id10326  The room was kind of clean but had a VERY stro...   \n",
       "1  id10327  I stayed at the Crown Plaza April -- - April -...   \n",
       "2  id10328  I booked this hotel through Hotwire at the low...   \n",
       "3  id10329  Stayed here with husband and sons on the way t...   \n",
       "4  id10330  My girlfriends and I stayed here to celebrate ...   \n",
       "\n",
       "        Browser_Used Device_Used Is_Response  \n",
       "0               Edge      Mobile   not happy  \n",
       "1  Internet Explorer      Mobile   not happy  \n",
       "2            Mozilla      Tablet   not happy  \n",
       "3   InternetExplorer     Desktop       happy  \n",
       "4               Edge      Tablet   not happy  "
      ]
     },
     "execution_count": 3,
     "metadata": {},
     "output_type": "execute_result"
    }
   ],
   "source": [
    "input_df.head(5)"
   ]
  },
  {
   "cell_type": "code",
   "execution_count": 4,
   "metadata": {},
   "outputs": [
    {
     "data": {
      "text/plain": [
       "array(['Chrome', 'Edge', 'Firefox', 'Google Chrome', 'IE',\n",
       "       'Internet Explorer', 'InternetExplorer', 'Mozilla',\n",
       "       'Mozilla Firefox', 'Opera', 'Safari'], dtype=object)"
      ]
     },
     "execution_count": 4,
     "metadata": {},
     "output_type": "execute_result"
    }
   ],
   "source": [
    "from sklearn.preprocessing import LabelEncoder\n",
    "le = LabelEncoder()\n",
    "input_df['Browser_Used'] = le.fit_transform(input_df['Browser_Used'])\n",
    "le.classes_"
   ]
  },
  {
   "cell_type": "code",
   "execution_count": 5,
   "metadata": {},
   "outputs": [
    {
     "data": {
      "text/plain": [
       "array(['Desktop', 'Mobile', 'Tablet'], dtype=object)"
      ]
     },
     "execution_count": 5,
     "metadata": {},
     "output_type": "execute_result"
    }
   ],
   "source": [
    "le2 = LabelEncoder()\n",
    "input_df['Device_Used'] = le2.fit_transform(input_df['Device_Used'])\n",
    "# input_df.head()\n",
    "le2.classes_"
   ]
  },
  {
   "cell_type": "code",
   "execution_count": 6,
   "metadata": {
    "collapsed": true
   },
   "outputs": [],
   "source": [
    "# input_df['stemmed_desc'] = stemmer.stem(input_df.describe)\n",
    "from sklearn.model_selection import train_test_split\n",
    "train,test = train_test_split(input_df, test_size=0.33, random_state=42)"
   ]
  },
  {
   "cell_type": "code",
   "execution_count": 7,
   "metadata": {
    "collapsed": true
   },
   "outputs": [],
   "source": [
    "from nltk.stem.snowball import SnowballStemmer\n",
    "stemmer = SnowballStemmer(\"english\")\n"
   ]
  },
  {
   "cell_type": "code",
   "execution_count": 11,
   "metadata": {},
   "outputs": [
    {
     "name": "stdout",
     "output_type": "stream",
     "text": [
      "I stayed at the Crown Plaza April -- - April --, ----. The staff was friendly and attentive. The elevators are tiny (about -' by -'). The food in the restaurant was delicious but priced a little on the high side. Of course this is Washington DC. There is no pool and little for children to do. My room on the fifth floor had two comfortable beds and plenty of space for one person. The TV is a little small by todays standards with a limited number of channels. There was a small bit of mold in the bathtub area that could have been removed with a little bleach. It appeared the carpets were not vacummed every day. I reported a light bulb was burned out. It was never replaced. Ice machines are on the odd numbered floors, but the one on my floor did not work. I encountered some staff in the elevator one evening and I mentioned the ice machine to them. Severel hours later a maid appeared at my door with ice and two mints. I'm not sure how they knew what room I was in. That was a little unnerving! I would stay here again for business, but would not come here on vacation.\n",
      "88888888888888888\n",
      "python\n",
      "python\n",
      "python\n",
      "python\n",
      "python\n"
     ]
    }
   ],
   "source": [
    "print train[\"Description\"][1]\n",
    "print \"88888888888888888\"\n",
    "example_words = [\"python\",\"pythoner\",\"pythoning\",\"pythoned\",\"pythonly\"]\n",
    "for i in example_words:\n",
    "    print stemmer.stem(i)"
   ]
  },
  {
   "cell_type": "code",
   "execution_count": 213,
   "metadata": {},
   "outputs": [
    {
     "name": "stdout",
     "output_type": "stream",
     "text": [
      "(26084, 5)\n",
      "(12848, 5)\n"
     ]
    }
   ],
   "source": [
    "print train.shape\n",
    "print test.shape"
   ]
  },
  {
   "cell_type": "code",
   "execution_count": 214,
   "metadata": {
    "collapsed": true
   },
   "outputs": [],
   "source": [
    "y_train = train.Is_Response\n",
    "y_test = test.Is_Response\n",
    "X_train = train.drop('Is_Response', axis=1)\n",
    "X_test = test.drop('Is_Response', axis=1)\n",
    "y_train = pd.DataFrame(y_train)\n",
    "y_test = pd.DataFrame(y_test)"
   ]
  },
  {
   "cell_type": "code",
   "execution_count": 215,
   "metadata": {},
   "outputs": [
    {
     "name": "stdout",
     "output_type": "stream",
     "text": [
      "(26084, 4)\n",
      "Index([u'User_ID', u'Description', u'Browser_Used', u'Device_Used'], dtype='object')\n",
      "(12848, 4)\n",
      "Index([u'User_ID', u'Description', u'Browser_Used', u'Device_Used'], dtype='object')\n",
      "(26084, 1)\n",
      "(12848, 1)\n"
     ]
    }
   ],
   "source": [
    "print X_train.shape\n",
    "print X_train.columns\n",
    "print X_test.shape\n",
    "print X_test.columns\n",
    "print y_train.shape\n",
    "# print y_train.columns\n",
    "print y_test.shape\n",
    "# print y_test.columns"
   ]
  },
  {
   "cell_type": "code",
   "execution_count": 216,
   "metadata": {},
   "outputs": [
    {
     "data": {
      "text/plain": [
       "TfidfVectorizer(analyzer=u'word', binary=False, decode_error=u'strict',\n",
       "        dtype=<type 'numpy.int64'>, encoding=u'utf-8', input=u'content',\n",
       "        lowercase=True, max_df=1.0, max_features=500, min_df=5,\n",
       "        ngram_range=(1, 2), norm=u'l2', preprocessor=None, smooth_idf=True,\n",
       "        stop_words='english', strip_accents=None, sublinear_tf=False,\n",
       "        token_pattern=u'(?u)\\\\b\\\\w\\\\w+\\\\b', tokenizer=None, use_idf=True,\n",
       "        vocabulary=None)"
      ]
     },
     "execution_count": 216,
     "metadata": {},
     "output_type": "execute_result"
    }
   ],
   "source": [
    "from sklearn.feature_extraction.text import CountVectorizer\n",
    "from sklearn.feature_extraction.text import TfidfVectorizer\n",
    "\n",
    "cv = CountVectorizer(stop_words='english', min_df=5, ngram_range=(1,2), max_features=500)\n",
    "cv.fit(X_train.Description.values.tolist()+X_test.Description.values.tolist())\n",
    "tfidf = TfidfVectorizer(stop_words='english', min_df=5, ngram_range=(1,2), max_features=500)\n",
    "tfidf.fit(X_train.Description.values.tolist()+X_test.Description.values.tolist())\n"
   ]
  },
  {
   "cell_type": "code",
   "execution_count": 217,
   "metadata": {
    "collapsed": true
   },
   "outputs": [],
   "source": [
    "# occ = np.asarray(cv_count.sum(axis=0)).ravel().tolist()\n",
    "# counts_df = pd.DataFrame({'term': cv.get_feature_names(), 'occurrences': occ})\n",
    "# counts_df.sort_values(by='occurrences', ascending=False).head(20)\n",
    "train_desc_vec = cv.transform(X_train.Description.values.tolist())\n",
    "test_desc_vec = cv.transform(X_test.Description.values.tolist())\n",
    "train_desc_tfidf = tfidf.transform(X_train.Description.values.tolist())\n",
    "test_desc_tfidf = tfidf.transform(X_test.Description.values.tolist())"
   ]
  },
  {
   "cell_type": "code",
   "execution_count": 218,
   "metadata": {
    "collapsed": true
   },
   "outputs": [],
   "source": [
    "# transformer = TfidfTransformer()\n",
    "# train_desc_tfidf = transformer.fit_transform(train_desc_vec)\n",
    "# test_desc_tfidf = transformer.fit_transform(test_desc_vec)"
   ]
  },
  {
   "cell_type": "code",
   "execution_count": 219,
   "metadata": {},
   "outputs": [
    {
     "name": "stdout",
     "output_type": "stream",
     "text": [
      "(26084, 500)\n",
      "(12848, 500)\n",
      "(26084, 500)\n",
      "(12848, 500)\n"
     ]
    }
   ],
   "source": [
    "print train_desc_vec.get_shape()\n",
    "print test_desc_vec.get_shape()\n",
    "print train_desc_tfidf.get_shape()\n",
    "print test_desc_tfidf.get_shape()"
   ]
  },
  {
   "cell_type": "code",
   "execution_count": 220,
   "metadata": {},
   "outputs": [
    {
     "name": "stdout",
     "output_type": "stream",
     "text": [
      "<class 'scipy.sparse.csr.csr_matrix'>\n",
      "      Is_Response\n",
      "5453        happy\n",
      "8832    not happy\n",
      "29812       happy\n",
      "30177       happy\n",
      "24178   not happy\n",
      "['happy' 'not happy']\n"
     ]
    },
    {
     "data": {
      "text/plain": [
       "numpy.ndarray"
      ]
     },
     "execution_count": 220,
     "metadata": {},
     "output_type": "execute_result"
    }
   ],
   "source": [
    "print type(train_desc_vec)\n",
    "from scipy.sparse import csr_matrix, hstack\n",
    "from sklearn.preprocessing import LabelBinarizer\n",
    "lb = LabelBinarizer()\n",
    "print y_train[:5]\n",
    "y_train = lb.fit_transform(y_train)\n",
    "y_test = lb.transform(y_test)\n",
    "print lb.classes_\n",
    "type(y_train)"
   ]
  },
  {
   "cell_type": "code",
   "execution_count": 221,
   "metadata": {
    "collapsed": true
   },
   "outputs": [],
   "source": [
    "# X_train[cols].astype(float).values"
   ]
  },
  {
   "cell_type": "code",
   "execution_count": 222,
   "metadata": {
    "collapsed": true
   },
   "outputs": [],
   "source": [
    "cols = ['Browser_Used', 'Device_Used']\n",
    "xtrain = hstack([csr_matrix(X_train[cols].astype(float).values), train_desc_vec, train_desc_tfidf])\n",
    "xtest = hstack([csr_matrix(X_test[cols].astype(float).values), test_desc_vec, test_desc_tfidf])"
   ]
  },
  {
   "cell_type": "code",
   "execution_count": 223,
   "metadata": {
    "collapsed": true
   },
   "outputs": [],
   "source": [
    "dtrain = xgb.DMatrix(xtrain, label=y_train)\n",
    "dtest = xgb.DMatrix(xtest, label=y_test)"
   ]
  },
  {
   "cell_type": "code",
   "execution_count": 224,
   "metadata": {},
   "outputs": [
    {
     "data": {
      "text/plain": [
       "numpy.ndarray"
      ]
     },
     "execution_count": 224,
     "metadata": {},
     "output_type": "execute_result"
    }
   ],
   "source": [
    "type(y_train)"
   ]
  },
  {
   "cell_type": "code",
   "execution_count": 225,
   "metadata": {},
   "outputs": [
    {
     "name": "stdout",
     "output_type": "stream",
     "text": [
      "[0]\ttrain-error:0.211049\ttest-error:0.226806\n",
      "Multiple eval metrics have been passed: 'test-error' will be used for early stopping.\n",
      "\n",
      "Will train until test-error hasn't improved in 10 rounds.\n",
      "[10]\ttrain-error:0.181107\ttest-error:0.200342\n",
      "[20]\ttrain-error:0.162782\ttest-error:0.185554\n",
      "[30]\ttrain-error:0.150054\ttest-error:0.175747\n",
      "[40]\ttrain-error:0.137134\ttest-error:0.16773\n",
      "[50]\ttrain-error:0.125863\ttest-error:0.161582\n",
      "[60]\ttrain-error:0.11739\ttest-error:0.157534\n",
      "[70]\ttrain-error:0.110489\ttest-error:0.153876\n",
      "[80]\ttrain-error:0.104854\ttest-error:0.149362\n",
      "[90]\ttrain-error:0.099601\ttest-error:0.145781\n",
      "[100]\ttrain-error:0.094732\ttest-error:0.143602\n",
      "[110]\ttrain-error:0.0904\ttest-error:0.143836\n",
      "[120]\ttrain-error:0.087563\ttest-error:0.141501\n",
      "[130]\ttrain-error:0.083193\ttest-error:0.140333\n",
      "Stopping. Best iteration:\n",
      "[125]\ttrain-error:0.085033\ttest-error:0.13971\n",
      "\n"
     ]
    }
   ],
   "source": [
    "params = {'objective': 'binary:logistic',\n",
    "          'booster': 'gbtree',\n",
    "          'eval_metric': 'error',\n",
    "          'nthread': 4,\n",
    "          'silent': 1,\n",
    "          'max_depth': 6,\n",
    "          'subsample': 0.9,\n",
    "          'min_child_weight': 1,\n",
    "          \"colsample_bytree\": 0.9,\n",
    "          'eta': 0.1,\n",
    "          'seed': 2017}\n",
    "watchlist = [(dtrain, 'train'), (dtest, 'test')]\n",
    "num_rounds = 200\n",
    "clf_xgb = xgb.train(params, dtrain, num_rounds, verbose_eval=10, evals=watchlist, early_stopping_rounds=10)"
   ]
  },
  {
   "cell_type": "code",
   "execution_count": 226,
   "metadata": {
    "collapsed": true
   },
   "outputs": [],
   "source": [
    "pred = clf_xgb.predict(dtest)"
   ]
  },
  {
   "cell_type": "code",
   "execution_count": 227,
   "metadata": {},
   "outputs": [
    {
     "name": "stdout",
     "output_type": "stream",
     "text": [
      "[ 0.09318551  0.12945217  0.0466382   0.03097434  0.97867715]\n",
      "[[0]\n",
      " [0]\n",
      " [0]\n",
      " [0]\n",
      " [1]]\n"
     ]
    }
   ],
   "source": [
    "print pred[:5]\n",
    "print y_test[:5]\n",
    "pred_ = pred>0.5"
   ]
  },
  {
   "cell_type": "code",
   "execution_count": 228,
   "metadata": {},
   "outputs": [
    {
     "name": "stdout",
     "output_type": "stream",
     "text": [
      "0.859355541719\n"
     ]
    }
   ],
   "source": [
    "from sklearn.metrics import accuracy_score\n",
    "score = accuracy_score(y_test, pred_)\n",
    "print score"
   ]
  },
  {
   "cell_type": "code",
   "execution_count": 229,
   "metadata": {
    "collapsed": true
   },
   "outputs": [],
   "source": [
    "submit_df = pd.read_csv(\".\\\\data\\\\test.csv\")\n",
    "submit_label = submit_df[\"User_ID\"]\n",
    "submit_df.drop(\"User_ID\", axis=1, inplace=True)\n",
    "submit_df['Browser_Used'] = le.transform(submit_df['Browser_Used'])\n",
    "submit_df['Device_Used'] = le2.transform(submit_df['Device_Used'])"
   ]
  },
  {
   "cell_type": "code",
   "execution_count": 230,
   "metadata": {
    "collapsed": true
   },
   "outputs": [],
   "source": [
    "cols = ['Browser_Used', 'Device_Used']\n",
    "submit_desc_vec = cv.transform(submit_df.Description.values.tolist())\n",
    "submit_desc_tfidf = tfidf.transform(submit_df.Description.values.tolist())\n",
    "submit_test = hstack([csr_matrix(submit_df[cols].astype(float).values), submit_desc_vec, submit_desc_tfidf])\n",
    "# submit_df.head(5)"
   ]
  },
  {
   "cell_type": "code",
   "execution_count": 231,
   "metadata": {
    "collapsed": true
   },
   "outputs": [],
   "source": [
    "dsubmittest = xgb.DMatrix(submit_test)"
   ]
  },
  {
   "cell_type": "code",
   "execution_count": 232,
   "metadata": {},
   "outputs": [
    {
     "name": "stdout",
     "output_type": "stream",
     "text": [
      "(29404, 1)\n",
      "           0\n",
      "0  not happy\n",
      "1      happy\n",
      "2      happy\n",
      "3  not happy\n",
      "4      happy\n"
     ]
    }
   ],
   "source": [
    "print submit_pred.shape\n",
    "print submit_pred[:5]"
   ]
  },
  {
   "cell_type": "code",
   "execution_count": 233,
   "metadata": {
    "collapsed": true
   },
   "outputs": [],
   "source": [
    "submit_pred = clf_xgb.predict(dsubmittest)"
   ]
  },
  {
   "cell_type": "code",
   "execution_count": 234,
   "metadata": {},
   "outputs": [
    {
     "name": "stdout",
     "output_type": "stream",
     "text": [
      "[ 0.8542859   0.04171207  0.22390249  0.59733105  0.00784046]\n",
      "False    21340\n",
      "True      8064\n",
      "Name: 0, dtype: int64\n",
      "happy        21340\n",
      "not happy     8064\n",
      "Name: 0, dtype: int64\n"
     ]
    }
   ],
   "source": [
    "print submit_pred[:5]\n",
    "submit_pred = pd.DataFrame(submit_pred)\n",
    "submit_pred[0].value_counts()\n",
    "submit_pred = submit_pred>0.5\n",
    "print submit_pred[0].value_counts()\n",
    "submit_pred.replace({True:'not happy',False:'happy'}, inplace=True)\n",
    "print submit_pred[0].value_counts()\n",
    "# submit_label = pd.concat([submit_label, pd.DataFrame(sub)])"
   ]
  },
  {
   "cell_type": "code",
   "execution_count": 235,
   "metadata": {},
   "outputs": [
    {
     "name": "stdout",
     "output_type": "stream",
     "text": [
      "(29404L,)\n",
      "(29404, 2)\n"
     ]
    }
   ],
   "source": [
    "print submit_label.shape\n",
    "submit_label = pd.concat([submit_label,submit_pred], axis=1)\n",
    "print submit_label.shape"
   ]
  },
  {
   "cell_type": "code",
   "execution_count": 236,
   "metadata": {
    "collapsed": true
   },
   "outputs": [],
   "source": [
    "\n",
    "submit_label.columns = [\"User_ID\",\"Is_Response\"]\n",
    "submit_label.to_csv(\"submission.csv\", index=False)"
   ]
  },
  {
   "cell_type": "code",
   "execution_count": 237,
   "metadata": {},
   "outputs": [
    {
     "name": "stdout",
     "output_type": "stream",
     "text": [
      "happy        26521\n",
      "not happy    12411\n",
      "Name: Is_Response, dtype: int64\n",
      "0    26521\n",
      "1    12411\n",
      "Name: 0, dtype: int64\n",
      "happy        26521\n",
      "not happy    12411\n",
      "Name: 0, dtype: int64\n"
     ]
    }
   ],
   "source": [
    "df = pd.read_csv(\".\\\\data\\\\train.csv\")\n",
    "print df[\"Is_Response\"].value_counts()\n",
    "e = LabelBinarizer()\n",
    "t = e.fit_transform(df[\"Is_Response\"])\n",
    "t = pd.DataFrame(t)\n",
    "print pd.DataFrame(t)[0].value_counts()\n",
    "t = e.inverse_transform(t)\n",
    "\n",
    "print pd.DataFrame(t)[0].value_counts()"
   ]
  }
 ],
 "metadata": {
  "kernelspec": {
   "display_name": "Python 2",
   "language": "python",
   "name": "python2"
  },
  "language_info": {
   "codemirror_mode": {
    "name": "ipython",
    "version": 2
   },
   "file_extension": ".py",
   "mimetype": "text/x-python",
   "name": "python",
   "nbconvert_exporter": "python",
   "pygments_lexer": "ipython2",
   "version": "2.7.13"
  }
 },
 "nbformat": 4,
 "nbformat_minor": 2
}
