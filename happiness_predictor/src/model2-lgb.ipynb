{
 "cells": [
  {
   "cell_type": "code",
   "execution_count": 135,
   "metadata": {
    "collapsed": true
   },
   "outputs": [],
   "source": [
    "import lightgbm as lgb\n",
    "import pandas as pd\n",
    "import numpy as np\n",
    "from sklearn.preprocessing import LabelEncoder\n",
    "from nltk.stem.snowball import SnowballStemmer, PorterStemmer\n",
    "from nltk.corpus import stopwords\n",
    "from nltk.tokenize import word_tokenize\n",
    "from sklearn.feature_extraction.text import CountVectorizer\n",
    "from sklearn.feature_extraction.text import TfidfVectorizer\n",
    "from scipy.sparse import csr_matrix, hstack\n",
    "from sklearn.preprocessing import LabelBinarizer"
   ]
  },
  {
   "cell_type": "code",
   "execution_count": 136,
   "metadata": {
    "collapsed": true
   },
   "outputs": [],
   "source": [
    "# import nltk\n",
    "# nltk.download()"
   ]
  },
  {
   "cell_type": "code",
   "execution_count": 137,
   "metadata": {},
   "outputs": [
    {
     "name": "stdout",
     "output_type": "stream",
     "text": [
      "(38932, 5)\n",
      "(29404, 4)\n"
     ]
    }
   ],
   "source": [
    "train = pd.read_csv(\".\\\\data\\\\train.csv\", encoding='utf=8')\n",
    "test = pd.read_csv(\".\\\\data\\\\test.csv\", encoding='utf=8')\n",
    "print train.shape\n",
    "print test.shape"
   ]
  },
  {
   "cell_type": "code",
   "execution_count": 138,
   "metadata": {},
   "outputs": [
    {
     "name": "stdout",
     "output_type": "stream",
     "text": [
      "38932\n"
     ]
    }
   ],
   "source": [
    "train_len = train.shape[0]\n",
    "print train_len"
   ]
  },
  {
   "cell_type": "code",
   "execution_count": 139,
   "metadata": {},
   "outputs": [
    {
     "name": "stdout",
     "output_type": "stream",
     "text": [
      "(38932, 4)\n",
      "Index([u'User_ID', u'Description', u'Browser_Used', u'Device_Used'], dtype='object')\n"
     ]
    }
   ],
   "source": [
    "train_labels = train[\"Is_Response\"]\n",
    "train.drop(\"Is_Response\", axis=1, inplace=True)\n",
    "print train.shape\n",
    "print train.columns"
   ]
  },
  {
   "cell_type": "code",
   "execution_count": 140,
   "metadata": {},
   "outputs": [
    {
     "name": "stdout",
     "output_type": "stream",
     "text": [
      "(68336, 4)\n"
     ]
    }
   ],
   "source": [
    "total_data = train.append(test)\n",
    "print total_data.shape"
   ]
  },
  {
   "cell_type": "code",
   "execution_count": 141,
   "metadata": {},
   "outputs": [
    {
     "name": "stdout",
     "output_type": "stream",
     "text": [
      "[u'Chrome' u'Edge' u'Firefox' u'Google Chrome' u'IE' u'Internet Explorer'\n",
      " u'InternetExplorer' u'Mozilla' u'Mozilla Firefox' u'Opera' u'Safari']\n",
      "[u'Desktop' u'Mobile' u'Tablet']\n"
     ]
    }
   ],
   "source": [
    "cols = ['Browser_Used', 'Device_Used']\n",
    "for c in cols:\n",
    "    lb = LabelEncoder()\n",
    "    total_data[c] = lb.fit_transform(total_data[c])\n",
    "    print lb.classes_"
   ]
  },
  {
   "cell_type": "code",
   "execution_count": 142,
   "metadata": {
    "collapsed": true,
    "scrolled": true
   },
   "outputs": [],
   "source": [
    "# stemmer = PorterStemmer()\n",
    "# # stop_words = set(stopwords.words('english'))\n",
    "# for i,r in total_data.iterrows():\n",
    "#     wt = word_tokenize(r[1])\n",
    "#     filtered_desc = []\n",
    "#     for w in wt:\n",
    "#         filtered_desc.append(stemmer.stem(w))\n",
    "#     print i,\n",
    "#     total_data.loc[i,\"Description\"] = \" \".join(filtered_desc)"
   ]
  },
  {
   "cell_type": "code",
   "execution_count": 143,
   "metadata": {
    "collapsed": true
   },
   "outputs": [],
   "source": [
    "stemmed_df = pd.read_csv(\"stemmed.csv\", encoding='utf=8')\n",
    "total_data[\"Description\"] = stemmed_df[\"Description\"]\n",
    "# total_data.to_csv(\"stemmed.csv\", index=False,encoding ='utf-8')"
   ]
  },
  {
   "cell_type": "code",
   "execution_count": 144,
   "metadata": {},
   "outputs": [
    {
     "name": "stderr",
     "output_type": "stream",
     "text": [
      "D:\\sasnjeev\\anaconda\\lib\\site-packages\\ipykernel_launcher.py:4: SettingWithCopyWarning: \n",
      "A value is trying to be set on a copy of a slice from a DataFrame\n",
      "\n",
      "See the caveats in the documentation: http://pandas.pydata.org/pandas-docs/stable/indexing.html#indexing-view-versus-copy\n",
      "  after removing the cwd from sys.path.\n"
     ]
    },
    {
     "name": "stdout",
     "output_type": "stream",
     "text": [
      "(38932, 3)\n",
      "(29404, 3)\n"
     ]
    },
    {
     "name": "stderr",
     "output_type": "stream",
     "text": [
      "D:\\sasnjeev\\anaconda\\lib\\site-packages\\ipykernel_launcher.py:5: SettingWithCopyWarning: \n",
      "A value is trying to be set on a copy of a slice from a DataFrame\n",
      "\n",
      "See the caveats in the documentation: http://pandas.pydata.org/pandas-docs/stable/indexing.html#indexing-view-versus-copy\n",
      "  \"\"\"\n"
     ]
    }
   ],
   "source": [
    "train_new = total_data.iloc[:train_len,:]\n",
    "submission = total_data.iloc[train_len:,:]\n",
    "submission_user_id = submission[\"User_ID\"]\n",
    "train_new.drop(\"User_ID\", axis=1, inplace=True)\n",
    "submission.drop(\"User_ID\", axis=1, inplace=True)\n",
    "print train_new.shape\n",
    "print submission.shape"
   ]
  },
  {
   "cell_type": "code",
   "execution_count": 145,
   "metadata": {},
   "outputs": [
    {
     "name": "stdout",
     "output_type": "stream",
     "text": [
      "(38932, 3)\n"
     ]
    }
   ],
   "source": [
    "print train_new.shape\n",
    "from sklearn.model_selection import train_test_split\n",
    "X_train, X_test, y_train, y_test = train_test_split(train_new,train_labels, test_size=0.33, random_state=2017)"
   ]
  },
  {
   "cell_type": "code",
   "execution_count": 146,
   "metadata": {},
   "outputs": [
    {
     "name": "stdout",
     "output_type": "stream",
     "text": [
      "(26084, 3)\n",
      "Index([u'Description', u'Browser_Used', u'Device_Used'], dtype='object')\n",
      "(12848, 3)\n",
      "Index([u'Description', u'Browser_Used', u'Device_Used'], dtype='object')\n",
      "(26084L,)\n",
      "(12848L,)\n"
     ]
    }
   ],
   "source": [
    "print X_train.shape\n",
    "print X_train.columns\n",
    "print X_test.shape\n",
    "print X_test.columns\n",
    "print y_train.shape\n",
    "# print y_train.columns\n",
    "print y_test.shape"
   ]
  },
  {
   "cell_type": "code",
   "execution_count": 147,
   "metadata": {},
   "outputs": [
    {
     "data": {
      "text/plain": [
       "TfidfVectorizer(analyzer='word', binary=False, decode_error=u'strict',\n",
       "        dtype=<type 'numpy.int64'>, encoding=u'utf-8', input=u'content',\n",
       "        lowercase=True, max_df=1.0, max_features=700, min_df=150,\n",
       "        ngram_range=(1, 1), norm=u'l2', preprocessor=None, smooth_idf=True,\n",
       "        stop_words='english', strip_accents=None, sublinear_tf=False,\n",
       "        token_pattern=u'(?u)\\\\b\\\\w\\\\w+\\\\b', tokenizer=None, use_idf=True,\n",
       "        vocabulary=None)"
      ]
     },
     "execution_count": 147,
     "metadata": {},
     "output_type": "execute_result"
    }
   ],
   "source": [
    "cv = CountVectorizer(analyzer='word',stop_words='english', min_df=150, ngram_range=(1,1), max_features=700)\n",
    "cv.fit(X_train.Description.values.tolist()+X_test.Description.values.tolist()+submission.Description.values.tolist())\n",
    "tfidf = TfidfVectorizer(analyzer='word',stop_words='english', min_df=150, ngram_range=(1,1), max_features=700)\n",
    "tfidf.fit(X_train.Description.values.tolist()+X_test.Description.values.tolist()+submission.Description.values.tolist())"
   ]
  },
  {
   "cell_type": "code",
   "execution_count": 148,
   "metadata": {
    "collapsed": true
   },
   "outputs": [],
   "source": [
    "X_train_desc_vec = cv.transform(X_train.Description.values.tolist())\n",
    "X_test_desc_vec = cv.transform(X_test.Description.values.tolist())\n",
    "submission_desc_vec = cv.transform(submission.Description.values.tolist())"
   ]
  },
  {
   "cell_type": "code",
   "execution_count": 149,
   "metadata": {
    "collapsed": true
   },
   "outputs": [],
   "source": [
    "X_train_desc_tfidf = tfidf.transform(X_train.Description.values.tolist())\n",
    "X_test_desc_tfidf = tfidf.transform(X_test.Description.values.tolist())\n",
    "submission_desc_tfidf = tfidf.transform(submission.Description.values.tolist())"
   ]
  },
  {
   "cell_type": "code",
   "execution_count": 150,
   "metadata": {},
   "outputs": [
    {
     "name": "stdout",
     "output_type": "stream",
     "text": [
      "[u'happy' u'not happy']\n"
     ]
    }
   ],
   "source": [
    "lb_labels = LabelBinarizer()\n",
    "# print y_train[:5]\n",
    "y_train = lb_labels.fit_transform(y_train)\n",
    "y_test = lb_labels.transform(y_test)\n",
    "print lb_labels.classes_"
   ]
  },
  {
   "cell_type": "code",
   "execution_count": 151,
   "metadata": {
    "collapsed": true
   },
   "outputs": [],
   "source": [
    "xtrain = hstack([csr_matrix(X_train[cols].astype(float).values), X_train_desc_vec, X_train_desc_tfidf])\n",
    "xtest = hstack([csr_matrix(X_test[cols].astype(float).values), X_test_desc_vec, X_test_desc_tfidf])\n",
    "xsubmission = hstack([csr_matrix(submission[cols].astype(float).values), submission_desc_vec, submission_desc_tfidf])"
   ]
  },
  {
   "cell_type": "code",
   "execution_count": 152,
   "metadata": {},
   "outputs": [
    {
     "data": {
      "text/plain": [
       "array([0, 1, 1, ..., 0, 1, 0])"
      ]
     },
     "execution_count": 152,
     "metadata": {},
     "output_type": "execute_result"
    }
   ],
   "source": [
    "y_train_ravel = np.array(y_train).ravel()\n",
    "y_test_ravel = np.array(y_test).ravel()\n",
    "# print type(y_train)\n",
    "# print type(y_test)\n",
    "y_train_ravel"
   ]
  },
  {
   "cell_type": "code",
   "execution_count": 153,
   "metadata": {
    "collapsed": true
   },
   "outputs": [],
   "source": [
    "# dtrain = xgb.DMatrix(xtrain, label=y_train)\n",
    "# dtest = xgb.DMatrix(xtest, label=y_test)\n",
    "# dsubmission = xgb.DMatrix(xsubmission)\n",
    "dtrain = lgb.Dataset(xtrain, label=y_train_ravel)\n",
    "dtest = lgb.Dataset(xtest, label=y_test_ravel, reference=dtrain)\n",
    "dsubmission = lgb.Dataset(xsubmission)"
   ]
  },
  {
   "cell_type": "code",
   "execution_count": 160,
   "metadata": {
    "scrolled": true
   },
   "outputs": [
    {
     "name": "stdout",
     "output_type": "stream",
     "text": [
      "[1]\tvalid_0's binary_error: 0.22486\n",
      "Training until validation scores don't improve for 10 rounds.\n",
      "[2]\tvalid_0's binary_error: 0.212407\n",
      "[3]\tvalid_0's binary_error: 0.199875\n",
      "[4]\tvalid_0's binary_error: 0.194505\n",
      "[5]\tvalid_0's binary_error: 0.190613\n",
      "[6]\tvalid_0's binary_error: 0.188745\n",
      "[7]\tvalid_0's binary_error: 0.188745\n",
      "[8]\tvalid_0's binary_error: 0.184854\n",
      "[9]\tvalid_0's binary_error: 0.185632\n",
      "[10]\tvalid_0's binary_error: 0.182674\n",
      "[11]\tvalid_0's binary_error: 0.180729\n",
      "[12]\tvalid_0's binary_error: 0.180028\n",
      "[13]\tvalid_0's binary_error: 0.17707\n",
      "[14]\tvalid_0's binary_error: 0.176681\n",
      "[15]\tvalid_0's binary_error: 0.176603\n",
      "[16]\tvalid_0's binary_error: 0.172634\n",
      "[17]\tvalid_0's binary_error: 0.170143\n",
      "[18]\tvalid_0's binary_error: 0.16703\n",
      "[19]\tvalid_0's binary_error: 0.166252\n",
      "[20]\tvalid_0's binary_error: 0.16345\n",
      "[21]\tvalid_0's binary_error: 0.163527\n",
      "[22]\tvalid_0's binary_error: 0.162983\n",
      "[23]\tvalid_0's binary_error: 0.162516\n",
      "[24]\tvalid_0's binary_error: 0.161971\n",
      "[25]\tvalid_0's binary_error: 0.160181\n",
      "[26]\tvalid_0's binary_error: 0.157768\n",
      "[27]\tvalid_0's binary_error: 0.156912\n",
      "[28]\tvalid_0's binary_error: 0.156367\n",
      "[29]\tvalid_0's binary_error: 0.155121\n",
      "[30]\tvalid_0's binary_error: 0.153176\n",
      "[31]\tvalid_0's binary_error: 0.152709\n",
      "[32]\tvalid_0's binary_error: 0.151852\n",
      "[33]\tvalid_0's binary_error: 0.151463\n",
      "[34]\tvalid_0's binary_error: 0.150374\n",
      "[35]\tvalid_0's binary_error: 0.150451\n",
      "[36]\tvalid_0's binary_error: 0.149907\n",
      "[37]\tvalid_0's binary_error: 0.14835\n",
      "[38]\tvalid_0's binary_error: 0.147416\n",
      "[39]\tvalid_0's binary_error: 0.147572\n",
      "[40]\tvalid_0's binary_error: 0.147338\n",
      "[41]\tvalid_0's binary_error: 0.146326\n",
      "[42]\tvalid_0's binary_error: 0.145392\n",
      "[43]\tvalid_0's binary_error: 0.145159\n",
      "[44]\tvalid_0's binary_error: 0.144614\n",
      "[45]\tvalid_0's binary_error: 0.143913\n",
      "[46]\tvalid_0's binary_error: 0.142979\n",
      "[47]\tvalid_0's binary_error: 0.143057\n",
      "[48]\tvalid_0's binary_error: 0.142512\n",
      "[49]\tvalid_0's binary_error: 0.141656\n",
      "[50]\tvalid_0's binary_error: 0.140177\n",
      "[51]\tvalid_0's binary_error: 0.140567\n",
      "[52]\tvalid_0's binary_error: 0.139866\n",
      "[53]\tvalid_0's binary_error: 0.13901\n",
      "[54]\tvalid_0's binary_error: 0.138387\n",
      "[55]\tvalid_0's binary_error: 0.138076\n",
      "[56]\tvalid_0's binary_error: 0.138154\n",
      "[57]\tvalid_0's binary_error: 0.138154\n",
      "[58]\tvalid_0's binary_error: 0.137531\n",
      "[59]\tvalid_0's binary_error: 0.137375\n",
      "[60]\tvalid_0's binary_error: 0.136986\n",
      "[61]\tvalid_0's binary_error: 0.136753\n",
      "[62]\tvalid_0's binary_error: 0.136441\n",
      "[63]\tvalid_0's binary_error: 0.135585\n",
      "[64]\tvalid_0's binary_error: 0.135507\n",
      "[65]\tvalid_0's binary_error: 0.13543\n",
      "[66]\tvalid_0's binary_error: 0.135897\n",
      "[67]\tvalid_0's binary_error: 0.134573\n",
      "[68]\tvalid_0's binary_error: 0.134184\n",
      "[69]\tvalid_0's binary_error: 0.13325\n",
      "[70]\tvalid_0's binary_error: 0.132705\n",
      "[71]\tvalid_0's binary_error: 0.133484\n",
      "[72]\tvalid_0's binary_error: 0.132628\n",
      "[73]\tvalid_0's binary_error: 0.132083\n",
      "[74]\tvalid_0's binary_error: 0.131694\n",
      "[75]\tvalid_0's binary_error: 0.132316\n",
      "[76]\tvalid_0's binary_error: 0.131849\n",
      "[77]\tvalid_0's binary_error: 0.131149\n",
      "[78]\tvalid_0's binary_error: 0.13037\n",
      "[79]\tvalid_0's binary_error: 0.130137\n",
      "[80]\tvalid_0's binary_error: 0.130137\n",
      "[81]\tvalid_0's binary_error: 0.130059\n",
      "[82]\tvalid_0's binary_error: 0.129903\n",
      "[83]\tvalid_0's binary_error: 0.130059\n",
      "[84]\tvalid_0's binary_error: 0.129281\n",
      "[85]\tvalid_0's binary_error: 0.129281\n",
      "[86]\tvalid_0's binary_error: 0.129047\n",
      "[87]\tvalid_0's binary_error: 0.128892\n",
      "[88]\tvalid_0's binary_error: 0.128191\n",
      "[89]\tvalid_0's binary_error: 0.127491\n",
      "[90]\tvalid_0's binary_error: 0.126868\n",
      "[91]\tvalid_0's binary_error: 0.127257\n",
      "[92]\tvalid_0's binary_error: 0.12679\n",
      "[93]\tvalid_0's binary_error: 0.126712\n",
      "[94]\tvalid_0's binary_error: 0.126401\n",
      "[95]\tvalid_0's binary_error: 0.126479\n",
      "[96]\tvalid_0's binary_error: 0.126323\n",
      "[97]\tvalid_0's binary_error: 0.126012\n",
      "[98]\tvalid_0's binary_error: 0.1257\n",
      "[99]\tvalid_0's binary_error: 0.125078\n",
      "[100]\tvalid_0's binary_error: 0.125\n",
      "[101]\tvalid_0's binary_error: 0.124844\n",
      "[102]\tvalid_0's binary_error: 0.125078\n",
      "[103]\tvalid_0's binary_error: 0.124767\n",
      "[104]\tvalid_0's binary_error: 0.124767\n",
      "[105]\tvalid_0's binary_error: 0.124611\n",
      "[106]\tvalid_0's binary_error: 0.124689\n",
      "[107]\tvalid_0's binary_error: 0.124533\n",
      "[108]\tvalid_0's binary_error: 0.1243\n",
      "[109]\tvalid_0's binary_error: 0.124066\n",
      "[110]\tvalid_0's binary_error: 0.123443\n",
      "[111]\tvalid_0's binary_error: 0.123599\n",
      "[112]\tvalid_0's binary_error: 0.12391\n",
      "[113]\tvalid_0's binary_error: 0.123755\n",
      "[114]\tvalid_0's binary_error: 0.123988\n",
      "[115]\tvalid_0's binary_error: 0.123677\n",
      "[116]\tvalid_0's binary_error: 0.12321\n",
      "[117]\tvalid_0's binary_error: 0.122976\n",
      "[118]\tvalid_0's binary_error: 0.121965\n",
      "[119]\tvalid_0's binary_error: 0.122276\n",
      "[120]\tvalid_0's binary_error: 0.122509\n",
      "[121]\tvalid_0's binary_error: 0.122587\n",
      "[122]\tvalid_0's binary_error: 0.122899\n",
      "[123]\tvalid_0's binary_error: 0.122509\n",
      "[124]\tvalid_0's binary_error: 0.122821\n",
      "[125]\tvalid_0's binary_error: 0.122899\n",
      "[126]\tvalid_0's binary_error: 0.122899\n",
      "[127]\tvalid_0's binary_error: 0.122899\n",
      "[128]\tvalid_0's binary_error: 0.123054\n",
      "Early stopping, best iteration is:\n",
      "[118]\tvalid_0's binary_error: 0.121965\n"
     ]
    }
   ],
   "source": [
    "params = {\n",
    "    'task': 'train',\n",
    "    'boosting_type': 'gbdt',\n",
    "    'objective': 'binary',\n",
    "    'metric': 'binary_error',\n",
    "    'num_leaves': 64,\n",
    "    'learning_rate': 0.1,\n",
    "    'feature_fraction': 0.9,\n",
    "    'bagging_fraction': 0.8,\n",
    "    'bagging_freq': 5,\n",
    "    'verbose': 1,\n",
    "    'max_bin': 512,\n",
    "    'subsample_for_bin': 200,\n",
    "    'subsample': 1, \n",
    "    'subsample_freq': 1, \n",
    "    'colsample_bytree': 0.8, \n",
    "    'reg_alpha': 5, \n",
    "    'reg_lambda': 10,\n",
    "    'min_split_gain': 0.5, \n",
    "    'min_child_weight': 1, \n",
    "    'min_child_samples': 5, \n",
    "    'scale_pos_weight': 1,\n",
    "    }\n",
    "gbm = lgb.train(params, dtrain, num_boost_round=200, valid_sets=dtest, early_stopping_rounds=10)"
   ]
  },
  {
   "cell_type": "code",
   "execution_count": 161,
   "metadata": {},
   "outputs": [
    {
     "name": "stdout",
     "output_type": "stream",
     "text": [
      "[ 0.31605933  0.03827838  0.06636349  0.03601756  0.36435689]\n",
      "[[1]\n",
      " [0]\n",
      " [0]\n",
      " [1]\n",
      " [0]]\n",
      "0.878035491905\n"
     ]
    }
   ],
   "source": [
    "pred = gbm.predict(xtest)\n",
    "print pred[:5]\n",
    "print y_test[:5]\n",
    "pred_ = pred>0.5\n",
    "from sklearn.metrics import accuracy_score\n",
    "score = accuracy_score(y_test, pred_)\n",
    "print score"
   ]
  },
  {
   "cell_type": "code",
   "execution_count": 162,
   "metadata": {},
   "outputs": [
    {
     "name": "stdout",
     "output_type": "stream",
     "text": [
      "(29404L,)\n"
     ]
    }
   ],
   "source": [
    "submit_pred = gbm.predict(xsubmission, num_iteration=gbm.best_iteration)\n",
    "print submit_pred.shape"
   ]
  },
  {
   "cell_type": "code",
   "execution_count": 163,
   "metadata": {},
   "outputs": [
    {
     "name": "stdout",
     "output_type": "stream",
     "text": [
      "(29404, 2)\n"
     ]
    }
   ],
   "source": [
    "submit_pred = lb_labels.inverse_transform(submit_pred)\n",
    "submit_df = pd.concat([submission_user_id, pd.DataFrame(submit_pred)], axis=1)\n",
    "submit_df.columns = [\"User_ID\", \"Is_Response\"]\n",
    "print submit_df.shape"
   ]
  },
  {
   "cell_type": "code",
   "execution_count": 158,
   "metadata": {},
   "outputs": [
    {
     "name": "stdout",
     "output_type": "stream",
     "text": [
      "   User_ID Is_Response\n",
      "0  id80132   not happy\n",
      "1  id80133   not happy\n",
      "2  id80134   not happy\n",
      "3  id80135       happy\n",
      "4  id80136   not happy\n"
     ]
    }
   ],
   "source": [
    "print submit_df.head(5)\n",
    "submit_df.to_csv(\"submission.csv\", index=False)"
   ]
  },
  {
   "cell_type": "code",
   "execution_count": null,
   "metadata": {
    "collapsed": true
   },
   "outputs": [],
   "source": []
  }
 ],
 "metadata": {
  "kernelspec": {
   "display_name": "Python 2",
   "language": "python",
   "name": "python2"
  },
  "language_info": {
   "codemirror_mode": {
    "name": "ipython",
    "version": 2
   },
   "file_extension": ".py",
   "mimetype": "text/x-python",
   "name": "python",
   "nbconvert_exporter": "python",
   "pygments_lexer": "ipython2",
   "version": "2.7.13"
  }
 },
 "nbformat": 4,
 "nbformat_minor": 2
}
